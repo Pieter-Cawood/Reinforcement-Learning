{
 "cells": [
  {
   "cell_type": "code",
   "execution_count": 1,
   "metadata": {},
   "outputs": [],
   "source": [
    "import random\n",
    "import numpy as np\n",
    "import gym\n",
    "import torch\n",
    "import matplotlib.pyplot as plt\n",
    "\n",
    "from dqn.agent import DQNAgent\n",
    "from dqn.replay_buffer import ReplayBuffer\n",
    "from dqn.wrappers import *"
   ]
  },
  {
   "cell_type": "code",
   "execution_count": 2,
   "metadata": {},
   "outputs": [
    {
     "data": {
      "text/plain": [
       "True"
      ]
     },
     "execution_count": 2,
     "metadata": {},
     "output_type": "execute_result"
    }
   ],
   "source": [
    "torch.cuda.is_available()"
   ]
  },
  {
   "cell_type": "markdown",
   "metadata": {},
   "source": [
    "## DQN Hyperparameters"
   ]
  },
  {
   "cell_type": "code",
   "execution_count": 3,
   "metadata": {},
   "outputs": [],
   "source": [
    "hyper_params = {\n",
    "        \"seed\": 42,  # which seed to use\n",
    "        \"env\": \"PongNoFrameskip-v4\",  # name of the game\n",
    "        \"replay-buffer-size\": int(1e6),  # replay buffer size\n",
    "        \"learning-rate\": 1e-4,  # learning rate for Adam optimizer\n",
    "        \"discount-factor\": 0.99,  # discount factor\n",
    "        \"num-steps\": int(1e6),  # total number of steps to run the environment for\n",
    "        \"batch-size\": 32,  # number of transitions to optimize at the same time\n",
    "        \"learning-starts\": 10000,  # number of steps before learning starts\n",
    "        \"learning-freq\": 1,  # number of iterations between every optimization step\n",
    "        \"use-double-dqn\": True,  # use double deep Q-learning\n",
    "        \"target-update-freq\": 1000,  # number of iterations between every target network update\n",
    "        \"eps-start\": 1.0,  # e-greedy start threshold\n",
    "        \"eps-end\": 0.1,  # e-greedy end threshold\n",
    "        \"eps-fraction\": 0.1,  # fraction of num-steps\n",
    "        \"print-freq\": 10,\n",
    "        }"
   ]
  },
  {
   "cell_type": "markdown",
   "metadata": {},
   "source": [
    "## Initliase envrionment"
   ]
  },
  {
   "cell_type": "code",
   "execution_count": 4,
   "metadata": {},
   "outputs": [],
   "source": [
    "def init_environment(output_folder='output'):\n",
    "    np.random.seed(hyper_params[\"seed\"])\n",
    "    random.seed(hyper_params[\"seed\"])\n",
    "\n",
    "    assert \"NoFrameskip\" in hyper_params[\"env\"], \"Require environment with no frameskip\"\n",
    "    env = gym.make(hyper_params[\"env\"])\n",
    "    env.seed(hyper_params[\"seed\"])\n",
    "\n",
    "    env = NoopResetEnv(env, noop_max=30)   # No co-op max, as described in paper's parameter list\n",
    "    env = MaxAndSkipEnv(env, skip=4)\n",
    "    env = EpisodicLifeEnv(env)  # As described in training details section, when lives are up - so is the game\n",
    "    env = FireResetEnv(env)  \n",
    "    env = WarpFrame(env)    # Warp frame to 84x84 as described in paper\n",
    "    env = PyTorchFrame(env) # Swap dimensions so channels are 1st -> Pytorch model needs this\n",
    "    env = ClipRewardEnv(env)   #As described in Training details section\n",
    "    env = FrameStack(env, 4)   # As described in hyperparameter list, agent history length\n",
    "    env = gym.wrappers.Monitor(env, './' + output_folder + '/', video_callable=lambda episode_id: episode_id % 10 == 0, force=True)\n",
    "    replay_buffer = ReplayBuffer(hyper_params[\"replay-buffer-size\"])\n",
    "\n",
    "    eps_timesteps = hyper_params[\"eps-fraction\"] * float(hyper_params[\"num-steps\"])\n",
    "    episode_rewards = [0.0]\n",
    "\n",
    "    state = env.reset()\n",
    "    return env, replay_buffer, eps_timesteps, episode_rewards, state"
   ]
  },
  {
   "cell_type": "code",
   "execution_count": 5,
   "metadata": {},
   "outputs": [],
   "source": [
    "env, replay_buffer, eps_timesteps, episode_rewards, state = init_environment()\n",
    "\n",
    "losses = []\n",
    "average_rewards = []\n",
    "average_rewards_epochs = []\n",
    "\n",
    "agent = DQNAgent(env.observation_space,\n",
    "                 env.action_space, \n",
    "                 replay_buffer, \n",
    "                 hyper_params[\"use-double-dqn\"],\n",
    "                 hyper_params[\"learning-rate\"],\n",
    "                 hyper_params[\"batch-size\"],\n",
    "                 hyper_params[\"discount-factor\"])"
   ]
  },
  {
   "cell_type": "markdown",
   "metadata": {},
   "source": [
    "## Training\n",
    "(Optional)"
   ]
  },
  {
   "cell_type": "code",
   "execution_count": 5,
   "metadata": {},
   "outputs": [
    {
     "name": "stdout",
     "output_type": "stream",
     "text": [
      "********************************************************\n",
      "steps: 7961\n",
      "episodes: 10\n",
      "mean 100 episode reward: -20.7\n",
      "% time spent exploring: 92\n",
      "********************************************************\n",
      "********************************************************\n",
      "steps: 17001\n",
      "episodes: 20\n",
      "mean 100 episode reward: -20.5\n",
      "% time spent exploring: 84\n",
      "********************************************************\n",
      "********************************************************\n",
      "steps: 26454\n",
      "episodes: 30\n",
      "mean 100 episode reward: -20.3\n",
      "% time spent exploring: 76\n",
      "********************************************************\n",
      "********************************************************\n",
      "steps: 36358\n",
      "episodes: 40\n",
      "mean 100 episode reward: -20.2\n",
      "% time spent exploring: 67\n",
      "********************************************************\n",
      "********************************************************\n",
      "steps: 45156\n",
      "episodes: 50\n",
      "mean 100 episode reward: -20.2\n",
      "% time spent exploring: 59\n",
      "********************************************************\n",
      "********************************************************\n",
      "steps: 54056\n",
      "episodes: 60\n",
      "mean 100 episode reward: -20.3\n",
      "% time spent exploring: 51\n",
      "********************************************************\n",
      "********************************************************\n",
      "steps: 64766\n",
      "episodes: 70\n",
      "mean 100 episode reward: -20.1\n",
      "% time spent exploring: 41\n",
      "********************************************************\n",
      "********************************************************\n",
      "steps: 78517\n",
      "episodes: 80\n",
      "mean 100 episode reward: -20.0\n",
      "% time spent exploring: 29\n",
      "********************************************************\n",
      "********************************************************\n",
      "steps: 94191\n",
      "episodes: 90\n",
      "mean 100 episode reward: -19.8\n",
      "% time spent exploring: 15\n",
      "********************************************************\n",
      "********************************************************\n",
      "steps: 111067\n",
      "episodes: 100\n",
      "mean 100 episode reward: -19.6\n",
      "% time spent exploring: 9\n",
      "********************************************************\n",
      "********************************************************\n",
      "steps: 128358\n",
      "episodes: 110\n",
      "mean 100 episode reward: -19.3\n",
      "% time spent exploring: 9\n",
      "********************************************************\n",
      "********************************************************\n",
      "steps: 148827\n",
      "episodes: 120\n",
      "mean 100 episode reward: -19.0\n",
      "% time spent exploring: 9\n",
      "********************************************************\n",
      "********************************************************\n",
      "steps: 170643\n",
      "episodes: 130\n",
      "mean 100 episode reward: -18.7\n",
      "% time spent exploring: 9\n",
      "********************************************************\n",
      "********************************************************\n",
      "steps: 193001\n",
      "episodes: 140\n",
      "mean 100 episode reward: -18.5\n",
      "% time spent exploring: 9\n",
      "********************************************************\n",
      "********************************************************\n",
      "steps: 215035\n",
      "episodes: 150\n",
      "mean 100 episode reward: -18.0\n",
      "% time spent exploring: 9\n",
      "********************************************************\n",
      "********************************************************\n",
      "steps: 237171\n",
      "episodes: 160\n",
      "mean 100 episode reward: -17.5\n",
      "% time spent exploring: 9\n",
      "********************************************************\n",
      "********************************************************\n",
      "steps: 260444\n",
      "episodes: 170\n",
      "mean 100 episode reward: -17.2\n",
      "% time spent exploring: 9\n",
      "********************************************************\n",
      "********************************************************\n",
      "steps: 283849\n",
      "episodes: 180\n",
      "mean 100 episode reward: -16.8\n",
      "% time spent exploring: 9\n",
      "********************************************************\n",
      "********************************************************\n",
      "steps: 308174\n",
      "episodes: 190\n",
      "mean 100 episode reward: -16.4\n",
      "% time spent exploring: 9\n",
      "********************************************************\n",
      "********************************************************\n",
      "steps: 331280\n",
      "episodes: 200\n",
      "mean 100 episode reward: -16.0\n",
      "% time spent exploring: 9\n",
      "********************************************************\n",
      "********************************************************\n",
      "steps: 357633\n",
      "episodes: 210\n",
      "mean 100 episode reward: -15.2\n",
      "% time spent exploring: 9\n",
      "********************************************************\n",
      "********************************************************\n",
      "steps: 384448\n",
      "episodes: 220\n",
      "mean 100 episode reward: -14.2\n",
      "% time spent exploring: 9\n",
      "********************************************************\n",
      "********************************************************\n",
      "steps: 414211\n",
      "episodes: 230\n",
      "mean 100 episode reward: -12.9\n",
      "% time spent exploring: 9\n",
      "********************************************************\n",
      "********************************************************\n",
      "steps: 445314\n",
      "episodes: 240\n",
      "mean 100 episode reward: -11.7\n",
      "% time spent exploring: 9\n",
      "********************************************************\n",
      "********************************************************\n",
      "steps: 478050\n",
      "episodes: 250\n",
      "mean 100 episode reward: -10.4\n",
      "% time spent exploring: 9\n",
      "********************************************************\n",
      "********************************************************\n",
      "steps: 508054\n",
      "episodes: 260\n",
      "mean 100 episode reward: -9.4\n",
      "% time spent exploring: 9\n",
      "********************************************************\n",
      "********************************************************\n",
      "steps: 541899\n",
      "episodes: 270\n",
      "mean 100 episode reward: -8.2\n",
      "% time spent exploring: 9\n",
      "********************************************************\n",
      "********************************************************\n",
      "steps: 573148\n",
      "episodes: 280\n",
      "mean 100 episode reward: -7.2\n",
      "% time spent exploring: 9\n",
      "********************************************************\n",
      "********************************************************\n",
      "steps: 604128\n",
      "episodes: 290\n",
      "mean 100 episode reward: -6.2\n",
      "% time spent exploring: 9\n",
      "********************************************************\n",
      "********************************************************\n",
      "steps: 638576\n",
      "episodes: 300\n",
      "mean 100 episode reward: -5.1\n",
      "% time spent exploring: 9\n",
      "********************************************************\n",
      "********************************************************\n",
      "steps: 672171\n",
      "episodes: 310\n",
      "mean 100 episode reward: -4.0\n",
      "% time spent exploring: 9\n",
      "********************************************************\n",
      "********************************************************\n",
      "steps: 705031\n",
      "episodes: 320\n",
      "mean 100 episode reward: -3.2\n",
      "% time spent exploring: 9\n",
      "********************************************************\n",
      "********************************************************\n",
      "steps: 735462\n",
      "episodes: 330\n",
      "mean 100 episode reward: -2.6\n",
      "% time spent exploring: 9\n",
      "********************************************************\n",
      "********************************************************\n",
      "steps: 768233\n",
      "episodes: 340\n",
      "mean 100 episode reward: -1.9\n",
      "% time spent exploring: 9\n",
      "********************************************************\n",
      "********************************************************\n",
      "steps: 799643\n",
      "episodes: 350\n",
      "mean 100 episode reward: -1.5\n",
      "% time spent exploring: 9\n",
      "********************************************************\n",
      "********************************************************\n",
      "steps: 831734\n",
      "episodes: 360\n",
      "mean 100 episode reward: -0.5\n",
      "% time spent exploring: 9\n",
      "********************************************************\n",
      "********************************************************\n",
      "steps: 862714\n",
      "episodes: 370\n",
      "mean 100 episode reward: 0.3\n",
      "% time spent exploring: 9\n",
      "********************************************************\n",
      "********************************************************\n",
      "steps: 894337\n",
      "episodes: 380\n",
      "mean 100 episode reward: 1.5\n",
      "% time spent exploring: 9\n",
      "********************************************************\n",
      "********************************************************\n",
      "steps: 925899\n",
      "episodes: 390\n",
      "mean 100 episode reward: 2.2\n",
      "% time spent exploring: 9\n",
      "********************************************************\n",
      "********************************************************\n",
      "steps: 957946\n",
      "episodes: 400\n",
      "mean 100 episode reward: 2.9\n",
      "% time spent exploring: 9\n",
      "********************************************************\n",
      "********************************************************\n",
      "steps: 988490\n",
      "episodes: 410\n",
      "mean 100 episode reward: 3.4\n",
      "% time spent exploring: 9\n",
      "********************************************************\n"
     ]
    }
   ],
   "source": [
    "\n",
    "for t in range(hyper_params[\"num-steps\"] + 1):\n",
    "    fraction = min(1.0, float(t) / eps_timesteps)\n",
    "    eps_threshold = hyper_params[\"eps-start\"] + fraction * (\n",
    "                  hyper_params[\"eps-end\"] - hyper_params[\"eps-start\"])\n",
    "    sample = random.random()\n",
    "    # Annealing epsilon-greedy\n",
    "    if sample <= eps_threshold:\n",
    "        action = env.action_space.sample()\n",
    "    else:\n",
    "        action = agent.act(np.array(state))\n",
    "            \n",
    "    # Take a leap of faith in the environment\n",
    "    next_state, reward, done, info = env.step(action)\n",
    "    done = float(done)\n",
    "\n",
    "    # Sum step reward for episode's total\n",
    "    episode_rewards[-1] += reward\n",
    "\n",
    "    # Store agent experience at each timestep\n",
    "    replay_buffer.add(state, action, reward, next_state, done)\n",
    "\n",
    "    # Update state\n",
    "    state = next_state\n",
    "\n",
    "    if done:\n",
    "        state = env.reset()\n",
    "        episode_rewards.append(0.0)\n",
    "\n",
    "    if (t > hyper_params[\"learning-starts\"]) and\\\n",
    "       (t % hyper_params[\"learning-freq\"] == 0):\n",
    "        loss = agent.optimise_td_loss()\n",
    "        losses.append(loss)\n",
    "\n",
    "    if (t > hyper_params[\"learning-starts\"]) and\\\n",
    "       (t % hyper_params[\"target-update-freq\"] == 0):\n",
    "        agent.update_target_network()\n",
    "\n",
    "    num_episodes = len(episode_rewards)\n",
    "\n",
    "    if done and (len(episode_rewards) % hyper_params[\"print-freq\"] == 0):\n",
    "        mean_100ep_reward = round(np.mean(episode_rewards[-101:-1]), 1)\n",
    "        average_rewards.append(round(np.mean(episode_rewards[ -hyper_params[\"print-freq\"] - 1:-1]), 1))\n",
    "        average_rewards_epochs.append(num_episodes)\n",
    "        print(\"********************************************************\")\n",
    "        print(\"steps: {}\".format(t))\n",
    "        print(\"episodes: {}\".format(num_episodes))\n",
    "        print(\"mean 100 episode reward: {}\".format(mean_100ep_reward))\n",
    "        print(\"% time spent exploring: {}\".format(int(100 * eps_threshold)))\n",
    "        print(\"********************************************************\")"
   ]
  },
  {
   "cell_type": "markdown",
   "metadata": {},
   "source": [
    "**Save the model weights** <br>\n",
    "(Optional)"
   ]
  },
  {
   "cell_type": "code",
   "execution_count": 25,
   "metadata": {},
   "outputs": [],
   "source": [
    "torch.save(agent.policy_network.state_dict(), 'DQN_model')"
   ]
  },
  {
   "cell_type": "markdown",
   "metadata": {},
   "source": [
    "## Plots"
   ]
  },
  {
   "cell_type": "code",
   "execution_count": 16,
   "metadata": {},
   "outputs": [
    {
     "data": {
      "image/png": "[encoded data removed]",
      "text/plain": [
       "<Figure size 432x288 with 1 Axes>"
      ]
     },
     "metadata": {
      "needs_background": "light"
     },
     "output_type": "display_data"
    }
   ],
   "source": [
    "plt.figure(figsize=(12, 6));\n",
    "plt.plot(average_rewards_epochs, average_rewards)\n",
    "plt.title(\"Average rewards during training\")\n",
    "plt.ylabel(\"Average Reward\")\n",
    "plt.xlabel(\"Episode\");"
   ]
  },
  {
   "cell_type": "code",
   "execution_count": 21,
   "metadata": {},
   "outputs": [
    {
     "data": {
      "image/png": "[encoded data removed]",
      "text/plain": [
       "<Figure size 864x432 with 1 Axes>"
      ]
     },
     "metadata": {
      "needs_background": "light"
     },
     "output_type": "display_data"
    }
   ],
   "source": [
    "plt.figure(figsize=(12, 6));\n",
    "plt.plot(losses)\n",
    "plt.title(\"Losses during training\")\n",
    "plt.ylabel(\"Huber loss\")\n",
    "plt.xlabel(\"Frame number\");"
   ]
  },
  {
   "cell_type": "markdown",
   "metadata": {},
   "source": [
    "## Greedy evaluation run"
   ]
  },
  {
   "cell_type": "markdown",
   "metadata": {},
   "source": [
    "**Load the model weights** <br>\n",
    "(Optional)"
   ]
  },
  {
   "cell_type": "code",
   "execution_count": 10,
   "metadata": {},
   "outputs": [],
   "source": [
    "agent.policy_network.load_state_dict(torch.load('DQN_model', map_location='cuda'));"
   ]
  },
  {
   "cell_type": "code",
   "execution_count": 9,
   "metadata": {},
   "outputs": [
    {
     "name": "stdout",
     "output_type": "stream",
     "text": [
      "********************************************************\n",
      "episodes: 10\n",
      "mean 100 episode reward: 4.9\n",
      "********************************************************\n"
     ]
    }
   ],
   "source": [
    "env, replay_buffer, eps_timesteps, episode_rewards, state = init_environment('output_greedy')\n",
    "\n",
    "agent.policy_network.eval()\n",
    "\n",
    "while True:\n",
    "  \n",
    "  # Greedy only \n",
    "    action = agent.act(np.array(state))\n",
    "            \n",
    "  # Take a leap of faith in the environment\n",
    "    next_state, reward, done, info = env.step(action)\n",
    "    done = float(done)\n",
    "        \n",
    "    episode_rewards[-1] += reward\n",
    "\n",
    "    # Store agent experience at each timestep\n",
    "    replay_buffer.add(state, action, reward, next_state, done)\n",
    "\n",
    "  # Update state\n",
    "    state = next_state\n",
    "\n",
    "    if done:\n",
    "        state = env.reset()\n",
    "        episode_rewards.append(0.0)\n",
    "\n",
    "    num_episodes = len(episode_rewards)\n",
    "\n",
    "    if (\n",
    "      done\n",
    "      and hyper_params[\"print-freq\"] is not None\n",
    "      and len(episode_rewards) % hyper_params[\"print-freq\"] == 0\n",
    "      ):\n",
    "        mean_100ep_reward = round(np.mean(episode_rewards[-101:-1]), 1)\n",
    "        print(\"********************************************************\")\n",
    "        print(\"episodes: {}\".format(num_episodes))\n",
    "        print(\"mean 100 episode reward: {}\".format(mean_100ep_reward))\n",
    "        print(\"********************************************************\")\n",
    "        break"
   ]
  },
  {
   "cell_type": "code",
   "execution_count": null,
   "metadata": {},
   "outputs": [],
   "source": []
  }
 ],
 "metadata": {
  "kernelspec": {
   "display_name": "Python 3",
   "language": "python",
   "name": "python3"
  },
  "language_info": {
   "codemirror_mode": {
    "name": "ipython",
    "version": 3
   },
   "file_extension": ".py",
   "mimetype": "text/x-python",
   "name": "python",
   "nbconvert_exporter": "python",
   "pygments_lexer": "ipython3",
   "version": "3.7.6"
  }
 },
 "nbformat": 4,
 "nbformat_minor": 4
}
