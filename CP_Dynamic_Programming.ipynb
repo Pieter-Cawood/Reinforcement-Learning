{
 "cells": [
  {
   "cell_type": "code",
   "execution_count": 4,
   "metadata": {},
   "outputs": [],
   "source": [
    "import numpy as np\n",
    "import matplotlib.pyplot as plt\n",
    "import seaborn as sns"
   ]
  },
  {
   "cell_type": "code",
   "execution_count": 25,
   "metadata": {},
   "outputs": [],
   "source": [
    "class gridEnv:\n",
    "    def __init__(self, height, width, agentType = \"R\"):\n",
    "        self.dimensions = [height,width]\n",
    "        self.goal_pos = [0,0]\n",
    "        self.reward_goal_pos = 20\n",
    "        self.start_pos = [height,0]\n",
    "        self.agent_pos = [height,0]\n",
    "        self.agent_path = []\n",
    "        self.agent_returns = []\n",
    "        self.agent_sample_traj = []\n",
    "        self.agent_acc_reward = 0\n",
    "        self.step_count = 0\n",
    "        self.action_space = [\"U\", \"D\", \"L\", \"R\"]\n",
    "        self.action_prob = [0.25,0.25,0.25,0.25]\n",
    "        self.reward = -1\n",
    "        #self.gamma = 1\n",
    "        self.threshold = 0.01\n",
    "        #self.obstacles = [[2,0],[2,1],[2,2],[2,3],[2,4],[2,5]]\n",
    "        self.step_limit = 50\n",
    "        self.agent = agentType\n",
    "        self.greedy_agent_path = [\"R\",\"R\",\"R\",\"R\",\"R\",\"R\",\"U\",\"U\",\"U\",\"U\",\"U\",\"U\",\"L\",\"L\",\"L\",\"L\",\"L\",\"L\"]\n",
    "        \n",
    "    def show_grid(self):\n",
    "        gridworld = np.zeros(self.dimensions)\n",
    "        gridworld[self.goal_pos[0],self.goal_pos[1]] = 100\n",
    "        for i in range(len(self.obstacles)):\n",
    "            ob_coords = self.obstacles[i]\n",
    "            gridworld[ob_coords[0],ob_coords[1]] = -100\n",
    "        if self.step_count == 0:\n",
    "            gridworld[self.start_pos[0],self.start_pos[1]] = 1\n",
    "        else:\n",
    "            gridworld[self.agent_pos[0],self.agent_pos[1]] = 1        \n",
    "        #print(\"The agent position is: {}\".format(self.agent_pos))\n",
    "        #print(\"The agent accumualted reward is:{}\".format(self.agent_acc_reward))\n",
    "        #print(\"This is the agent path: {}\".format(self.agent_path))\n",
    "        #print(gridworld)\n",
    "\n",
    "    def chooseAction(self):\n",
    "        #returns a random action\n",
    "        if self.agent == \"G\":\n",
    "            action = self.greedy_agent_path[(self.step_count-1)]\n",
    "        else:\n",
    "            action = np.random.choice(self.action_space)\n",
    "        return action\n",
    "    \n",
    "    def seqManager(self):\n",
    "        #print(\"Initial State:\")\n",
    "        self.show_grid()\n",
    "        while self.step_count < self.step_limit:\n",
    "            self.step_count += 1\n",
    "            #print(\"Time step: {}\".format(self.step_count))\n",
    "            self.action()\n",
    "        else:\n",
    "            #print(\"Step count reached!\")\n",
    "            self.agent_sample_traj = self.agent_path\n",
    "            self.agent_returns.append(self.agent_acc_reward)\n",
    "            self.terminate()\n",
    "            \n",
    "    def action(self):\n",
    "        a = self.chooseAction()\n",
    "        if a == \"U\" and self.agent_pos[0] > 0:\n",
    "            self.agent_pos[0] -= 1\n",
    "            if self.agent_pos[1] == 0 and self.agent_pos[0] == 0:\n",
    "                self.agent_acc_reward += 20\n",
    "                self.agent_path.append(a)\n",
    "                self.show_grid()\n",
    "                self.step_count = 50 #to terminate if goal is reached\n",
    "            else:\n",
    "                #if self.agent_pos[0] == 2 and self.agent_pos[1] != self.dimensions[1]-1:\n",
    "                    #print(\"Obstacle ahead\")\n",
    "                  #  self.agent_pos[0] += 1\n",
    "                   # self.show_grid()\n",
    "           # else:\n",
    "                self.agent_acc_reward -= 1\n",
    "                self.agent_path.append(a)\n",
    "                self.show_grid()\n",
    "        elif a == \"U\" and self.agent_pos[0] == 0:\n",
    "            #print(\"Cannot move off grid\")\n",
    "            pass\n",
    "        elif a == \"D\" and self.agent_pos[0] < (self.dimensions[0]-1):\n",
    "            self.agent_pos[0] += 1\n",
    "            #if self.agent_pos[0] == 2 and self.agent_pos[1] != self.dimensions[1]-1:\n",
    "                #print(\"Obstacle ahead\")\n",
    "               # self.agent_pos[0] -= 1\n",
    "               # self.show_grid()\n",
    "            #else:\n",
    "            self.agent_acc_reward -=1\n",
    "            self.agent_path.append(a)\n",
    "            self.show_grid()\n",
    "        elif a == \"D\" and self.agent_pos[0] == (self.dimensions[0]-1):\n",
    "            #print(\"Cannot move off grid\")\n",
    "            pass\n",
    "        elif a == \"L\" and self.agent_pos[1] > 0:\n",
    "            self.agent_pos[1] -= 1\n",
    "            if self.agent_pos[1] == 0 and self.agent_pos[0] == 0:\n",
    "                self.agent_acc_reward += 20\n",
    "                self.agent_path.append(a)\n",
    "                self.show_grid()\n",
    "                self.step_count = 50 #to terminate if goal is reached\n",
    "            else:\n",
    "               # if self.agent_pos[0] == 2 and self.agent_pos[1] == self.dimensions[1]-2:\n",
    "                    #print(\"Obstacle ahead\")\n",
    "                   # self.agent_pos[1] += 1\n",
    "                   # self.show_grid()\n",
    "               # else:\n",
    "                self.agent_acc_reward -= 1\n",
    "                self.agent_path.append(a)\n",
    "                self.show_grid()\n",
    "        elif a == \"L\" and self.agent_pos[1] == 0:\n",
    "            #print(\"Cannot move off grid\")\n",
    "            pass\n",
    "        elif a == \"R\" and self.agent_pos[1] < (self.dimensions[1]-1):\n",
    "            self.agent_pos[1] += 1\n",
    "            self.agent_acc_reward -= 1\n",
    "            self.agent_path.append(a)\n",
    "            self.show_grid()\n",
    "        elif a == \"R\" and self.agent_pos[1] == (self.dimensions[1]-1):\n",
    "            #print(\"Cannot move off grid\")\n",
    "            pass\n",
    "\n",
    "                \n",
    "    def terminate(self):\n",
    "        self.step_count = 0\n",
    "        self.agent_pos[0] = self.start_pos[0]\n",
    "        self.agent_pos[1] = self.start_pos[1]\n",
    "        self.agent_path = [] \n",
    "        self.agent_acc_reward = 0\n",
    "        self.step_count = 0        \n",
    "        "
   ]
  },
  {
   "cell_type": "code",
   "execution_count": 26,
   "metadata": {},
   "outputs": [],
   "source": [
    "grid4x4 = gridEnv(4,4)"
   ]
  },
  {
   "cell_type": "code",
   "execution_count": 29,
   "metadata": {},
   "outputs": [],
   "source": [
    "def twoArray(grid, gamma = 1):\n",
    "    \n",
    "    value_fn = np.zeros(grid.dimensions)\n",
    "    old_value_fn = np.zeros(grid.dimensions)\n",
    "\n",
    "    count = 0\n",
    "    delta = 1\n",
    "    \n",
    "    while delta > 0.01:\n",
    "        count +=1\n",
    "        #print(\"Count: {}\".format(count))\n",
    "        old_value_fn = value_fn\n",
    "        value_fn = np.zeros(grid.dimensions)\n",
    "        delta = 0\n",
    "        for row in range(value_fn.shape[0]):\n",
    "            for col in range(value_fn.shape[1]):\n",
    "                action_count = 4\n",
    "                if row == grid.goal_pos[0] and col == grid.goal_pos[1]: # dont compute the goal\n",
    "                    pass\n",
    "                else:\n",
    "                    \n",
    "                    #Check how many actions u can take to determine probability\n",
    "                    if (row == 0) or (row == (grid.dimensions[0]-1)):\n",
    "                        if (col == 0) or (col == (grid.dimensions[1]-1)):\n",
    "                            action_count = 2\n",
    "                            #print(\"AT THE CORNER AT THE CORNER\")\n",
    "                            action_count = 2\n",
    "                        else:\n",
    "                            action_count = 3\n",
    "                    if (col == 0 or col == (grid.dimensions[1]-1)) and ((row!= 0) and (row != grid.dimensions[0]-1)):\n",
    "                        action_count = 3\n",
    "                        \n",
    "                    #print(\"State: row {} col {}\".format(row,col))    \n",
    "                    #print(\"action count:{}\".format(action_count))    \n",
    "                    probability = 1/action_count\n",
    "                    #print(\"Prob: {}\".format(probability))\n",
    "                    \n",
    "                    \n",
    "                    #Up action\n",
    "                    if row > 0:\n",
    "                        bellman_update_u = probability*(grid.reward +gamma*old_value_fn[row-1,col])\n",
    "                    else:\n",
    "                        bellman_update_u = 0\n",
    "                    #Down action\n",
    "                    if row < (grid.dimensions[0]-1):\n",
    "                        bellman_update_d = probability*(grid.reward +gamma*old_value_fn[row+1,col])\n",
    "                    else:\n",
    "                        bellman_update_d = 0\n",
    "                    #Left action\n",
    "                    if col > 0:\n",
    "                        bellman_update_l = probability*(grid.reward +gamma*old_value_fn[row,col-1])\n",
    "                    else:\n",
    "                        bellman_update_l = 0\n",
    "                    #Right action\n",
    "                    if col < (grid.dimensions[1]-1):\n",
    "                        bellman_update_r = probability*(grid.reward +gamma*old_value_fn[row,col+1])\n",
    "                    else:\n",
    "                        bellman_update_r = 0\n",
    "                    #update value fn\n",
    "                    value_fn[row,col] =  bellman_update_u + bellman_update_d + bellman_update_l + bellman_update_r      \n",
    "                    #value_fn[grid.goal_pos[0], grid.goal_pos[0]] = 0\n",
    "\n",
    "                    #update delta\n",
    "                    \n",
    "                    #print(\"The old value: {}\".format(old_value_fn[row,col]))\n",
    "                    #print(\"The new value: {}\".format(value_fn[row,col]))\n",
    "                    #print(\"abs old - new: {}\".format(abs(old_value_fn[row,col] - value_fn[row,col])))\n",
    "                   # print(\"old delta: {}\".format(delta))\n",
    "\n",
    "                    changeVal = abs(value_fn[row,col] - old_value_fn[row,col])\n",
    "\n",
    "                    if delta > changeVal:\n",
    "                                    delta = delta\n",
    "                    else:\n",
    "                                    delta = changeVal\n",
    "                    #delta = min(delta, abs(value_fn[row,col] - old_value_fn[row,col] ))\n",
    "                    #print(\"New delta: {}\".format(delta))\n",
    "                    \n",
    "                \n",
    "    return value_fn, old_value_fn, count"
   ]
  },
  {
   "cell_type": "code",
   "execution_count": 30,
   "metadata": {
    "scrolled": false
   },
   "outputs": [],
   "source": [
    "two_arr_val_fn, old_two_arr_val_fn, count = twoArray(grid4x4)"
   ]
  },
  {
   "cell_type": "code",
   "execution_count": 60,
   "metadata": {},
   "outputs": [
    {
     "name": "stdout",
     "output_type": "stream",
     "text": [
      "2-Array iterations: 181\n"
     ]
    },
    {
     "data": {
      "image/png": "[encoded data removed]",
      "text/plain": [
       "<Figure size 432x288 with 2 Axes>"
      ]
     },
     "metadata": {
      "needs_background": "light"
     },
     "output_type": "display_data"
    }
   ],
   "source": [
    "print(\"2-Array iterations: \" + str(count))\n",
    "sns.heatmap(two_arr_val_fn,vmin=-46,annot=True, cmap = \"Purples_r\");"
   ]
  },
  {
   "cell_type": "code",
   "execution_count": 32,
   "metadata": {},
   "outputs": [],
   "source": [
    "def inPlace(grid, gamma = 1):\n",
    "    \n",
    "    value_fn = np.zeros(grid.dimensions)\n",
    "    old_value_fn = np.zeros(grid.dimensions)\n",
    "\n",
    "    count = 0\n",
    "    delta = 1\n",
    "    \n",
    "    while delta > 0.01:\n",
    "        count +=1\n",
    "        #print(\"Count: {}\".format(count))\n",
    "        old_value_fn = value_fn\n",
    "        #value_fn = np.zeros(grid.dimensions)\n",
    "        delta = 0\n",
    "        for row in range(value_fn.shape[0]):\n",
    "            for col in range(value_fn.shape[1]):\n",
    "                action_count = 4\n",
    "                if row == grid.goal_pos[0] and col == grid.goal_pos[1]: # dont compute the goal\n",
    "                    pass\n",
    "                else:\n",
    "                    \n",
    "                    #Check how many actions u can take to determine probability\n",
    "                    if (row == 0) or (row == (grid.dimensions[0]-1)):\n",
    "                        if (col == 0) or (col == (grid.dimensions[1]-1)):\n",
    "                            action_count = 2\n",
    "                            #print(\"AT THE CORNER AT THE CORNER\")\n",
    "                            action_count = 2\n",
    "                        else:\n",
    "                            action_count = 3\n",
    "                    if (col == 0 or col == (grid.dimensions[1]-1)) and ((row!= 0) and (row != grid.dimensions[0]-1)):\n",
    "                        action_count = 3\n",
    "                        \n",
    "                    #print(\"State: row {} col {}\".format(row,col))    \n",
    "                    #print(\"action count:{}\".format(action_count))    \n",
    "                    probability = 1/action_count\n",
    "                    #print(\"Prob: {}\".format(probability))\n",
    "                    \n",
    "                    \n",
    "                    #Up action\n",
    "                    if row > 0:\n",
    "                        bellman_update_u = probability*(grid.reward +gamma*value_fn[row-1,col])\n",
    "                    else:\n",
    "                        bellman_update_u = 0\n",
    "                    #Down action\n",
    "                    if row < (grid.dimensions[0]-1):\n",
    "                        bellman_update_d = probability*(grid.reward +gamma*value_fn[row+1,col])\n",
    "                    else:\n",
    "                        bellman_update_d = 0\n",
    "                    #Left action\n",
    "                    if col > 0:\n",
    "                        bellman_update_l = probability*(grid.reward +gamma*value_fn[row,col-1])\n",
    "                    else:\n",
    "                        bellman_update_l = 0\n",
    "                    #Right action\n",
    "                    if col < (grid.dimensions[1]-1):\n",
    "                        bellman_update_r = probability*(grid.reward +gamma*value_fn[row,col+1])\n",
    "                    else:\n",
    "                        bellman_update_r = 0\n",
    "                    #update value fn\n",
    "                    value_fn[row,col] =  bellman_update_u + bellman_update_d + bellman_update_l + bellman_update_r      \n",
    "                    #value_fn[grid.goal_pos[0], grid.goal_pos[0]] = 0\n",
    "\n",
    "                    #update delta\n",
    "                    \n",
    "                    #print(\"The old value: {}\".format(old_value_fn[row,col]))\n",
    "                    #print(\"The new value: {}\".format(value_fn[row,col]))\n",
    "                    #print(\"abs old - new: {}\".format(abs(old_value_fn[row,col] - value_fn[row,col])))\n",
    "                   # print(\"old delta: {}\".format(delta))\n",
    "\n",
    "                    changeVal = abs(value_fn[row,col] - old_value_fn[row,col])\n",
    "\n",
    "                    if delta > changeVal:\n",
    "                                    delta = delta\n",
    "                    else:\n",
    "                                    delta = changeVal\n",
    "                    #delta = min(delta, abs(value_fn[row,col] - old_value_fn[row,col] ))\n",
    "                    #print(\"New delta: {}\".format(delta))\n",
    "                    \n",
    "                \n",
    "    return value_fn, count"
   ]
  },
  {
   "cell_type": "code",
   "execution_count": 33,
   "metadata": {},
   "outputs": [],
   "source": [
    "in_place_val_fn, in_place_count = inPlace(grid4x4)"
   ]
  },
  {
   "cell_type": "code",
   "execution_count": 58,
   "metadata": {},
   "outputs": [
    {
     "name": "stdout",
     "output_type": "stream",
     "text": [
      "In place iterations: 1\n"
     ]
    },
    {
     "data": {
      "image/png": "[encoded data removed]",
      "text/plain": [
       "<Figure size 432x288 with 2 Axes>"
      ]
     },
     "metadata": {
      "needs_background": "light"
     },
     "output_type": "display_data"
    }
   ],
   "source": [
    "print(\"In place iterations: \" + str(in_place_count))\n",
    "sns.heatmap(in_place_val_fn,vmin=-4,annot=True, cmap = \"Blues_r\");"
   ]
  },
  {
   "cell_type": "code",
   "execution_count": 37,
   "metadata": {},
   "outputs": [
    {
     "data": {
      "text/plain": [
       "array([0.63095734, 0.64643716, 0.66229676, 0.67854546, 0.6951928 ,\n",
       "       0.71224856, 0.72972276, 0.74762568, 0.76596782, 0.78475997,\n",
       "       0.80401316, 0.82373871, 0.8439482 , 0.8646535 , 0.88586679,\n",
       "       0.90760052, 0.92986747, 0.9526807 , 0.97605364, 1.        ])"
      ]
     },
     "execution_count": 37,
     "metadata": {},
     "output_type": "execute_result"
    }
   ],
   "source": [
    "gamma_arr = np.logspace(-0.2,0,num =20)\n",
    "gamma_arr"
   ]
  },
  {
   "cell_type": "code",
   "execution_count": 39,
   "metadata": {},
   "outputs": [
    {
     "name": "stdout",
     "output_type": "stream",
     "text": [
      "two_arr\n",
      "[11, 12, 12, 13, 14, 15, 15, 17, 18, 19, 21, 23, 26, 29, 34, 40, 49, 65, 95, 181]\n",
      "\n",
      "in_place\n",
      "[1, 1, 1, 1, 1, 1, 1, 1, 1, 1, 1, 1, 1, 1, 1, 1, 1, 1, 1, 1]\n"
     ]
    }
   ],
   "source": [
    "two_arr_iterations = []\n",
    "in_place_iterations = []\n",
    "for val in gamma_arr:\n",
    "    # 2 - array \n",
    "    two_arr_val_fn, old_two_arr_val_fn,two_arr_c = twoArray(grid4x4, gamma = val)\n",
    "    two_arr_iterations.append(two_arr_c)\n",
    "    #in place\n",
    "    in_pla_val_fn, in_pla_c = inPlace(grid4x4, gamma = val)\n",
    "    in_place_iterations.append(in_pla_c)\n",
    "    \n",
    "print(\"two_arr\")\n",
    "print(two_arr_iterations)\n",
    "print('\\nin_place')\n",
    "print(in_place_iterations)"
   ]
  },
  {
   "cell_type": "code",
   "execution_count": 67,
   "metadata": {},
   "outputs": [
    {
     "data": {
      "text/plain": [
       "<matplotlib.legend.Legend at 0x1bc97718e48>"
      ]
     },
     "execution_count": 67,
     "metadata": {},
     "output_type": "execute_result"
    },
    {
     "data": {
      "image/png": "[encoded data removed]",
      "text/plain": [
       "<Figure size 432x288 with 1 Axes>"
      ]
     },
     "metadata": {
      "needs_background": "light"
     },
     "output_type": "display_data"
    }
   ],
   "source": [
    "plt.plot(gamma_arr, two_arr_iterations, color = \"purple\" ,label=\"Two Array\")\n",
    "plt.plot(gamma_arr,in_place_iterations, color = \"#42e3f5\",label=\"In Place\")\n",
    "plt.title(\"Combined plot of policy evaluation methods for different discount rates\")\n",
    "plt.xlabel(\"Discount factor\")\n",
    "plt.ylabel(\"Iterations needed for convergence\")\n",
    "plt.legend()"
   ]
  },
  {
   "cell_type": "code",
   "execution_count": null,
   "metadata": {},
   "outputs": [],
   "source": []
  },
  {
   "cell_type": "code",
   "execution_count": null,
   "metadata": {},
   "outputs": [],
   "source": []
  }
 ],
 "metadata": {
  "kernelspec": {
   "display_name": "Python 3",
   "language": "python",
   "name": "python3"
  },
  "language_info": {
   "codemirror_mode": {
    "name": "ipython",
    "version": 3
   },
   "file_extension": ".py",
   "mimetype": "text/x-python",
   "name": "python",
   "nbconvert_exporter": "python",
   "pygments_lexer": "ipython3",
   "version": "3.7.6"
  }
 },
 "nbformat": 4,
 "nbformat_minor": 4
}
