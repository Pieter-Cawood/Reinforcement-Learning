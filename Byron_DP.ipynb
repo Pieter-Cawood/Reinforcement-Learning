{
 "cells": [
  {
   "cell_type": "code",
   "execution_count": 1,
   "metadata": {},
   "outputs": [],
   "source": [
    "import numpy as np\n",
    "import matplotlib.pyplot as plt"
   ]
  },
  {
   "cell_type": "code",
   "execution_count": 2,
   "metadata": {},
   "outputs": [],
   "source": [
    "def in_place(N=4, goal=(0,0), r=-1, gamma=1, theta=0.01):\n",
    "    Vs = np.zeros((N, N))\n",
    "    diff = 1\n",
    "    t = 0\n",
    "    while diff > theta:\n",
    "        for i in range(0,N):\n",
    "            for j in range(0,N):\n",
    "                pos = (i, j)\n",
    "                if pos==goal:\n",
    "                    continue\n",
    "                else:\n",
    "                    up = (i-1, j)\n",
    "                    down = (i+1, j)\n",
    "                    left = (i, j-1)\n",
    "                    right = (i, j+1)\n",
    "                    v = Vs[pos]\n",
    "                    val = []\n",
    "                    for new_pos in [up, down, left, right]:\n",
    "                        x = new_pos[0]\n",
    "                        y = new_pos[1]\n",
    "                        if x < 0 or y < 0:\n",
    "                            val.append(Vs[pos])\n",
    "                        elif x > N-1 or y > N-1:\n",
    "                            val.append(Vs[pos])\n",
    "                        else:\n",
    "                            val.append(Vs[new_pos])\n",
    "                    Vs[pos] = (np.array(val)*gamma-1).mean()\n",
    "                    diff = np.amin(np.array([diff, np.absolute(v-Vs[pos])]))\n",
    "        t += 1\n",
    "    return t, Vs"
   ]
  },
  {
   "cell_type": "code",
   "execution_count": 3,
   "metadata": {},
   "outputs": [],
   "source": [
    "def in_place2(N=4, goal=(0,0), r=-1, gamma=1, theta=0.01):\n",
    "    Vs = np.zeros((N, N))\n",
    "    diff = 1\n",
    "    t = 0\n",
    "    while diff > theta:\n",
    "        V_new = np.zeros((N, N))\n",
    "        for i in range(0,N):\n",
    "            for j in range(0,N):\n",
    "                pos = (i, j)\n",
    "                if pos==goal:\n",
    "                    continue\n",
    "                else:\n",
    "                    up = (i-1, j)\n",
    "                    down = (i+1, j)\n",
    "                    left = (i, j-1)\n",
    "                    right = (i, j+1)\n",
    "                    val = []\n",
    "                    for new_pos in [up, down, left, right]:\n",
    "                        x = new_pos[0]\n",
    "                        y = new_pos[1]\n",
    "                        if x < 0 or y < 0:\n",
    "                            val.append(Vs[pos])\n",
    "                        elif x > N-1 or y > N-1:\n",
    "                            val.append(Vs[pos])\n",
    "                        else:\n",
    "                            val.append(Vs[new_pos])\n",
    "                    V_new[pos] = (np.array(val)*gamma-1).mean()\n",
    "        diff = np.amin(np.array([diff, np.amax(np.absolute(V_new-Vs))]))\n",
    "        Vs = np.copy(V_new)\n",
    "        t += 1\n",
    "    return t, Vs"
   ]
  },
  {
   "cell_type": "code",
   "execution_count": 4,
   "metadata": {},
   "outputs": [
    {
     "data": {
      "text/plain": [
       "<matplotlib.image.AxesImage at 0x1604aa0c988>"
      ]
     },
     "execution_count": 4,
     "metadata": {},
     "output_type": "execute_result"
    },
    {
     "data": {
      "image/png": "[encoded data removed]",
      "text/plain": [
       "<Figure size 432x288 with 1 Axes>"
      ]
     },
     "metadata": {
      "needs_background": "light"
     },
     "output_type": "display_data"
    }
   ],
   "source": [
    "t_in_place, V_in_place = in_place()\n",
    "plt.figure()\n",
    "plt.title(\"Value Function Heatmap\")\n",
    "plt.imshow(V_in_place)"
   ]
  },
  {
   "cell_type": "code",
   "execution_count": 6,
   "metadata": {},
   "outputs": [
    {
     "data": {
      "image/png": "[encoded data removed]",
      "text/plain": [
       "<Figure size 432x288 with 1 Axes>"
      ]
     },
     "metadata": {
      "needs_background": "light"
     },
     "output_type": "display_data"
    }
   ],
   "source": [
    "gam = np.logspace(-0.2, 0, num=20)\n",
    "t_vec = []\n",
    "t2_vec = []\n",
    "for g in gam:\n",
    "    t, V = in_place(gamma=g)\n",
    "    t2, V2 = in_place2(gamma=g)\n",
    "    t_vec.append(t)\n",
    "    t2_vec.append(t2)\n",
    "\n",
    "plt.figure()\n",
    "plt.plot(gam, t_vec, 'b', label='In-place')\n",
    "plt.plot(gam, t2_vec, 'r', label='Two-array')\n",
    "plt.title(\"Convergence Plot\")\n",
    "plt.xlabel(\"Gamma\")\n",
    "plt.ylabel(\"Number of iterations\")\n",
    "plt.legend();"
   ]
  }
 ],
 "metadata": {
  "kernelspec": {
   "display_name": "Python 3",
   "language": "python",
   "name": "python3"
  },
  "language_info": {
   "codemirror_mode": {
    "name": "ipython",
    "version": 3
   },
   "file_extension": ".py",
   "mimetype": "text/x-python",
   "name": "python",
   "nbconvert_exporter": "python",
   "pygments_lexer": "ipython3",
   "version": "3.7.7"
  }
 },
 "nbformat": 4,
 "nbformat_minor": 4
}
