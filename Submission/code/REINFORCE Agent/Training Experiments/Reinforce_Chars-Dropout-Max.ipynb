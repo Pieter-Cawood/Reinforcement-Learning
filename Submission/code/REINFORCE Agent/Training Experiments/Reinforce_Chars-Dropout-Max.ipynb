{
 "cells": [
  {
   "cell_type": "code",
   "execution_count": 1,
   "metadata": {},
   "outputs": [],
   "source": [
    "import numpy as np\n",
    "from itertools import count\n",
    "\n",
    "import torch\n",
    "import torch.nn as nn\n",
    "import torch.nn.functional as F\n",
    "import torch.optim as optim\n",
    "from torch.distributions import Categorical\n",
    "\n",
    "import gym\n",
    "from nle import nethack"
   ]
  },
  {
   "cell_type": "code",
   "execution_count": 2,
   "metadata": {},
   "outputs": [],
   "source": [
    "device = torch.device('cpu')\n",
    "seed = 1\n",
    "max_episode_steps = 2000\n",
    "window = 25\n",
    "gamma = 0.99\n",
    "alpha = 0.1\n",
    "render = False\n",
    "max_char = 255 #nethack.OBSERVATION_DESC['chars']"
   ]
  },
  {
   "cell_type": "code",
   "execution_count": 3,
   "metadata": {},
   "outputs": [],
   "source": [
    "ACTIONS = [\n",
    "    nethack.CompassCardinalDirection.N,\n",
    "    nethack.CompassCardinalDirection.E,\n",
    "    nethack.CompassCardinalDirection.S,\n",
    "    nethack.CompassCardinalDirection.W,\n",
    "]"
   ]
  },
  {
   "cell_type": "code",
   "execution_count": 4,
   "metadata": {},
   "outputs": [],
   "source": [
    "STATS_INDICES = {\n",
    "    'x_coordinate': 0,\n",
    "    'y_coordinate': 1,\n",
    "    'score': 9,\n",
    "    'health_points': 10,\n",
    "    'health_points_max': 11,\n",
    "    'hunger_level': 18,\n",
    "}"
   ]
  },
  {
   "cell_type": "code",
   "execution_count": 5,
   "metadata": {},
   "outputs": [
    {
     "data": {
      "text/plain": [
       "<torch._C.Generator at 0x7f9a1003fcb0>"
      ]
     },
     "execution_count": 5,
     "metadata": {},
     "output_type": "execute_result"
    }
   ],
   "source": [
    "env = gym.make(\"NetHackScore-v0\", actions = ACTIONS)\n",
    "env.seed(seed)\n",
    "torch.manual_seed(seed)"
   ]
  },
  {
   "cell_type": "code",
   "execution_count": 6,
   "metadata": {},
   "outputs": [],
   "source": [
    "#env.render() # How to see the environment\n",
    "#env.step(action) # How to step through the environment 0 = UP, 1 = Right, 2 = Down, 3 = Left"
   ]
  },
  {
   "cell_type": "code",
   "execution_count": 7,
   "metadata": {},
   "outputs": [],
   "source": [
    "class Policy(nn.Module):\n",
    "    def __init__(self, obs_size, act_size):\n",
    "        super(Policy, self).__init__()\n",
    "        self.affine1 = nn.Linear(obs_size, 256)\n",
    "        self.dropout = nn.Dropout(p=0.5)\n",
    "        self.affine2 = nn.Linear(256, 128)\n",
    "#         self.dropout = nn.Dropout(p=0.5)\n",
    "        self.affine3 = nn.Linear(128, 64)\n",
    "#        self.dropout = nn.Dropout(p=0.4)\n",
    "        self.affine4 = nn.Linear(64, act_size)\n",
    "\n",
    "        self.saved_log_probs = []\n",
    "        self.rewards = []\n",
    "\n",
    "    def forward(self, x):\n",
    "        x = self.affine1(x)\n",
    "        x = self.dropout(x)\n",
    "        x = F.relu(x)\n",
    "        x = self.affine2(x)\n",
    "#         x = self.dropout(x)\n",
    "        x = F.relu(x)\n",
    "        x = self.affine3(x)\n",
    "#         x = self.dropout(x)\n",
    "        x = F.relu(x)\n",
    "        action_scores = self.affine4(x)\n",
    "        return F.softmax(action_scores, dim=1)"
   ]
  },
  {
   "cell_type": "code",
   "execution_count": 8,
   "metadata": {},
   "outputs": [],
   "source": [
    "def crop_glyphs(glyphs, x, y, size=7):\n",
    "    x_max = 79\n",
    "    y_max = 21\n",
    "\n",
    "    x_start = x - size\n",
    "    x_end = x + size\n",
    "\n",
    "    if x_start < 0:\n",
    "        x_end = x_end + (-1 * x_start)\n",
    "        x_start = 0\n",
    "\n",
    "    if x_end > x_max:\n",
    "        x_start = x_start - (x_end - x_max)\n",
    "        x_end = x_max\n",
    "\n",
    "    y_start = y - size\n",
    "    y_end = y + size\n",
    "\n",
    "    if y_start < 0:\n",
    "        y_end = y_end + (-1 * y_start)\n",
    "        y_start = 0\n",
    "\n",
    "    if y_end > y_max:\n",
    "        y_start = y_start - (y_end - y_max)\n",
    "        y_end = y_max\n",
    "\n",
    "    y_range = np.arange(y_start, (y_end), 1)\n",
    "    x_range = np.arange(x_start, (x_end), 1)\n",
    "    window_glyphs = []\n",
    "    for row in y_range:\n",
    "        for col in x_range:\n",
    "            window_glyphs.append(glyphs[row][col])\n",
    "\n",
    "    crop = np.asarray(window_glyphs)\n",
    "\n",
    "    return crop"
   ]
  },
  {
   "cell_type": "code",
   "execution_count": 9,
   "metadata": {},
   "outputs": [],
   "source": [
    "def transform_observation(observation):\n",
    "    \"\"\"Process the state into the model input shape\n",
    "    of ([glyphs, stats], )\"\"\"\n",
    "#     observed_glyphs = observation['glyphs']\n",
    "\n",
    "    stat_x_coord = observation['blstats'][STATS_INDICES['x_coordinate']]\n",
    "    stat_y_coord = observation['blstats'][STATS_INDICES['y_coordinate']]\n",
    "#     stat_health = float(observation['blstats'][STATS_INDICES['health_points']]) - float(\n",
    "#         observation['blstats'][STATS_INDICES['health_points_max']] / 2)\n",
    "#     stat_hunger = observation['blstats'][STATS_INDICES['hunger_level']]\n",
    "\n",
    "\n",
    "    observed_chars = observation['chars']\n",
    "    cropped_chars = crop_glyphs(observed_chars, stat_x_coord, stat_y_coord)\n",
    "    # chars_mean = np.mean(cropped_chars)\n",
    "    # chars_std = np.std(cropped_chars)\n",
    "    # print('MEAN:', chars_mean)\n",
    "    # print('STD:', chars_std)\n",
    "    # norm_chars = (cropped_chars - chars_mean)/chars_std\n",
    "#     chars_min = np.min(cropped_chars)\n",
    "#     chars_max = np.max(cropped_chars)\n",
    "#     chars_range = chars_max - chars_min\n",
    "#     norm_chars = (cropped_chars - chars_min) / chars_range\n",
    "    norm_chars = cropped_chars/max_char\n",
    "    return norm_chars"
   ]
  },
  {
   "cell_type": "code",
   "execution_count": 10,
   "metadata": {},
   "outputs": [],
   "source": [
    "#get observation size\n",
    "#but change observation size to characters just around agent\n",
    "state = transform_observation(env.reset())"
   ]
  },
  {
   "cell_type": "code",
   "execution_count": 11,
   "metadata": {},
   "outputs": [],
   "source": [
    "policy = Policy(state.shape[0], env.action_space.n)\n",
    "optimizer = optim.Adam(policy.parameters(), lr=1e-2)\n",
    "eps = np.finfo(np.float32).eps.item()"
   ]
  },
  {
   "cell_type": "code",
   "execution_count": 12,
   "metadata": {},
   "outputs": [],
   "source": [
    "def select_action(state):\n",
    "    state = torch.from_numpy(state).float().unsqueeze(0)\n",
    "    probs = policy(state)\n",
    "    m = Categorical(probs)\n",
    "    action = m.sample()\n",
    "    policy.saved_log_probs.append(m.log_prob(action))\n",
    "    return action.item()"
   ]
  },
  {
   "cell_type": "code",
   "execution_count": 13,
   "metadata": {},
   "outputs": [
    {
     "name": "stdout",
     "output_type": "stream",
     "text": [
      "[0.1254902  0.1254902  0.1254902  0.1254902  0.1254902  0.1254902\n",
      " 0.1254902  0.1254902  0.1254902  0.1254902  0.1254902  0.1254902\n",
      " 0.1254902  0.1254902  0.1254902  0.1254902  0.1254902  0.1254902\n",
      " 0.1254902  0.1254902  0.1254902  0.1254902  0.1254902  0.1254902\n",
      " 0.1254902  0.1254902  0.1254902  0.1254902  0.1254902  0.1254902\n",
      " 0.1254902  0.1254902  0.1254902  0.1254902  0.1254902  0.1254902\n",
      " 0.1254902  0.1254902  0.1254902  0.1254902  0.1254902  0.1254902\n",
      " 0.1254902  0.1254902  0.1254902  0.1254902  0.1254902  0.1254902\n",
      " 0.1254902  0.1254902  0.1254902  0.1254902  0.1254902  0.1254902\n",
      " 0.1254902  0.1254902  0.1254902  0.1254902  0.1254902  0.17647059\n",
      " 0.17647059 0.17647059 0.17647059 0.17647059 0.17647059 0.1254902\n",
      " 0.1254902  0.1254902  0.1254902  0.1254902  0.1254902  0.1254902\n",
      " 0.1254902  0.48627451 0.18039216 0.18039216 0.18039216 0.18039216\n",
      " 0.48627451 0.1254902  0.1254902  0.1254902  0.1254902  0.1254902\n",
      " 0.1254902  0.1254902  0.1254902  0.16862745 0.18039216 0.18039216\n",
      " 0.4        0.18039216 0.48627451 0.1254902  0.1254902  0.1254902\n",
      " 0.1254902  0.1254902  0.1254902  0.1254902  0.1254902  0.48627451\n",
      " 0.18039216 0.18039216 0.18039216 0.25098039 0.48627451 0.1254902\n",
      " 0.1254902  0.1254902  0.1254902  0.1254902  0.1254902  0.1254902\n",
      " 0.1254902  0.48627451 0.18039216 0.18039216 0.18039216 0.18039216\n",
      " 0.48627451 0.1254902  0.1254902  0.1254902  0.1254902  0.1254902\n",
      " 0.1254902  0.1254902  0.1254902  0.17647059 0.17647059 0.17647059\n",
      " 0.17647059 0.17647059 0.17647059 0.1254902  0.1254902  0.1254902\n",
      " 0.1254902  0.1254902  0.1254902  0.1254902  0.1254902  0.1254902\n",
      " 0.1254902  0.1254902  0.1254902  0.1254902  0.1254902  0.1254902\n",
      " 0.1254902  0.1254902  0.1254902  0.1254902  0.1254902  0.1254902\n",
      " 0.1254902  0.1254902  0.1254902  0.1254902  0.1254902  0.1254902\n",
      " 0.1254902  0.1254902  0.1254902  0.1254902  0.1254902  0.1254902\n",
      " 0.1254902  0.1254902  0.1254902  0.1254902  0.1254902  0.1254902\n",
      " 0.1254902  0.1254902  0.1254902  0.1254902  0.1254902  0.1254902\n",
      " 0.1254902  0.1254902  0.1254902  0.1254902  0.1254902  0.1254902\n",
      " 0.1254902  0.1254902  0.1254902  0.1254902  0.1254902  0.1254902\n",
      " 0.1254902  0.1254902  0.1254902  0.1254902 ]\n",
      "<class 'numpy.ndarray'>\n",
      "(196,)\n"
     ]
    }
   ],
   "source": [
    "print(state)\n",
    "print(type(state))\n",
    "print(state.shape)"
   ]
  },
  {
   "cell_type": "code",
   "execution_count": 14,
   "metadata": {},
   "outputs": [],
   "source": [
    "action = select_action(state)"
   ]
  },
  {
   "cell_type": "code",
   "execution_count": 15,
   "metadata": {},
   "outputs": [
    {
     "data": {
      "text/plain": [
       "2"
      ]
     },
     "execution_count": 15,
     "metadata": {},
     "output_type": "execute_result"
    }
   ],
   "source": [
    "action"
   ]
  },
  {
   "cell_type": "code",
   "execution_count": 16,
   "metadata": {},
   "outputs": [],
   "source": [
    "episode_rewards = []\n",
    "episode_loss = []"
   ]
  },
  {
   "cell_type": "code",
   "execution_count": 17,
   "metadata": {},
   "outputs": [],
   "source": [
    "def finish_episode():\n",
    "    R = 0\n",
    "    policy_loss = []\n",
    "    returns = []\n",
    "    for r in policy.rewards[::-1]:\n",
    "        R = r + gamma * R\n",
    "        returns.insert(0, R)\n",
    "    returns = torch.tensor(returns)\n",
    "    returns = (returns - returns.mean()) / (returns.std() + eps)\n",
    "    for log_prob, R in zip(policy.saved_log_probs, returns):\n",
    "        policy_loss.append(-log_prob * R)\n",
    "    optimizer.zero_grad()\n",
    "    policy_loss = torch.cat(policy_loss).sum()\n",
    "    episode_loss.append(policy_loss)\n",
    "    policy_loss.backward()\n",
    "    optimizer.step()\n",
    "    del policy.rewards[:]\n",
    "    del policy.saved_log_probs[:]"
   ]
  },
  {
   "cell_type": "code",
   "execution_count": 18,
   "metadata": {},
   "outputs": [],
   "source": [
    "def main():\n",
    "    running_reward = 0\n",
    "    for i_episode in range(1,300):\n",
    "        state, ep_reward = transform_observation(env.reset()), 0\n",
    "        for t in range(1, max_episode_steps):  # Don't infinite loop while learning\n",
    "            action = select_action(state)\n",
    "            state, reward, done, _ = env.step(action)\n",
    "            if render:\n",
    "                env.render()\n",
    "            state = transform_observation(state)\n",
    "            policy.rewards.append(reward)\n",
    "            ep_reward += reward\n",
    "            if done:\n",
    "                break\n",
    "        \n",
    "        \n",
    "        episode_rewards.append(ep_reward)\n",
    "        running_reward = alpha * ep_reward + (1 - alpha) * running_reward\n",
    "        finish_episode()\n",
    "\n",
    "        if i_episode % window == 0:\n",
    "            print('Episode {}\\tLast reward: {:.2f}\\tLast action: {}\\tAverage reward: {:.2f}'.format(\n",
    "                  i_episode, ep_reward, action, (sum(episode_rewards)/i_episode)))\n",
    "#         if running_reward > 20:\n",
    "#             print(\"Alert! Running reward is now {} and \"\n",
    "#                   \"the last episode runs to {} time steps!\".format(running_reward, t))\n",
    "        if ((sum(episode_rewards)/i_episode) > 100) or ((sum(episode_rewards)/i_episode) < -25):\n",
    "            print(\"End! Average reward is now {}\".format((sum(episode_rewards)/i_episode)))\n",
    "            break"
   ]
  },
  {
   "cell_type": "code",
   "execution_count": 19,
   "metadata": {
    "scrolled": false
   },
   "outputs": [
    {
     "name": "stderr",
     "output_type": "stream",
     "text": [
      "/home/clarise/anaconda3/lib/python3.8/site-packages/torch/autograd/__init__.py:130: UserWarning: CUDA initialization: Found no NVIDIA driver on your system. Please check that you have an NVIDIA GPU and installed a driver from http://www.nvidia.com/Download/index.aspx (Triggered internally at  /pytorch/c10/cuda/CUDAFunctions.cpp:100.)\n",
      "  Variable._execution_engine.run_backward(\n"
     ]
    },
    {
     "name": "stdout",
     "output_type": "stream",
     "text": [
      "Episode 25\tLast reward: 4.72\tLast action: 0\tAverage reward: 13.51\n",
      "Episode 50\tLast reward: 14.10\tLast action: 3\tAverage reward: 17.67\n",
      "Episode 75\tLast reward: -9.76\tLast action: 2\tAverage reward: 15.91\n",
      "Episode 100\tLast reward: 6.82\tLast action: 0\tAverage reward: 17.00\n",
      "Episode 125\tLast reward: 43.77\tLast action: 2\tAverage reward: 18.06\n",
      "Episode 150\tLast reward: -2.05\tLast action: 3\tAverage reward: 18.56\n",
      "Episode 175\tLast reward: 123.97\tLast action: 0\tAverage reward: 18.56\n",
      "Episode 200\tLast reward: 5.98\tLast action: 2\tAverage reward: 19.45\n",
      "Episode 225\tLast reward: 12.45\tLast action: 3\tAverage reward: 19.52\n",
      "Episode 250\tLast reward: -0.33\tLast action: 0\tAverage reward: 19.04\n",
      "Episode 275\tLast reward: -6.74\tLast action: 3\tAverage reward: 18.74\n"
     ]
    }
   ],
   "source": [
    "main()"
   ]
  },
  {
   "cell_type": "code",
   "execution_count": 20,
   "metadata": {},
   "outputs": [],
   "source": [
    "torch.save(policy, '/home/clarise/Desktop/COMS7053A - RL/mod_chars2.pt')"
   ]
  },
  {
   "cell_type": "code",
   "execution_count": 21,
   "metadata": {},
   "outputs": [],
   "source": [
    "import matplotlib.pyplot as plt"
   ]
  },
  {
   "cell_type": "code",
   "execution_count": 23,
   "metadata": {},
   "outputs": [
    {
     "data": {
      "image/png": "[encoded data removed]",
      "text/plain": [
       "<Figure size 432x288 with 1 Axes>"
      ]
     },
     "metadata": {
      "needs_background": "light"
     },
     "output_type": "display_data"
    }
   ],
   "source": [
    "x = np.arange(1, len(episode_rewards)+1, 1)\n",
    "y = episode_rewards\n",
    "plt.plot(x,y)\n",
    "plt.show()"
   ]
  },
  {
   "cell_type": "code",
   "execution_count": 24,
   "metadata": {},
   "outputs": [
    {
     "name": "stdout",
     "output_type": "stream",
     "text": [
      "0 0\n",
      "1 -0.3100000000000001\n",
      "2 -7.089999999999815\n",
      "3 -13.369999999999646\n",
      "4 -15.519999999999554\n",
      "5 11.58000000000053\n",
      "6 105.65999999999698\n",
      "7 117.62999999999712\n",
      "8 113.60999999999721\n",
      "9 142.09999999999664\n",
      "10 133.95999999999677\n",
      "11 181.82999999999777\n",
      "12 187.56999999999795\n",
      "13 220.69999999999848\n",
      "14 230.7399999999986\n",
      "15 244.92999999999873\n",
      "16 238.79999999999885\n",
      "17 235.49999999999895\n",
      "18 255.06999999999874\n",
      "19 245.08999999999892\n",
      "20 232.39999999999915\n",
      "21 251.60999999999825\n",
      "22 240.39999999999844\n",
      "23 270.0899999999979\n",
      "24 332.9199999999977\n",
      "25 337.63999999999777\n",
      "26 362.93999999999744\n",
      "27 374.86999999999756\n",
      "28 364.9999999999977\n",
      "29 413.12999999999903\n",
      "30 525.1899999999978\n",
      "31 551.289999999997\n",
      "32 583.0899999999968\n",
      "33 591.129999999997\n",
      "34 591.0799999999971\n",
      "35 583.5199999999973\n",
      "36 576.1299999999974\n",
      "37 567.6799999999976\n",
      "38 710.5299999999945\n",
      "39 738.5499999999931\n",
      "40 727.8999999999933\n",
      "41 738.2599999999934\n",
      "42 734.6599999999935\n",
      "43 768.5899999999936\n",
      "44 764.7799999999936\n",
      "45 777.0899999999938\n",
      "46 799.0799999999927\n",
      "47 807.3699999999928\n",
      "48 820.129999999993\n",
      "49 869.2899999999935\n",
      "50 883.3899999999935\n",
      "51 913.0399999999926\n",
      "52 920.9399999999926\n",
      "53 943.0899999999922\n",
      "54 953.0099999999923\n",
      "55 949.7199999999924\n",
      "56 989.8799999999933\n",
      "57 992.3199999999935\n",
      "58 985.8799999999936\n",
      "59 1058.5699999999931\n",
      "60 1054.9899999999932\n",
      "61 1047.1299999999933\n",
      "62 1066.829999999992\n",
      "63 1061.249999999992\n",
      "64 1077.079999999992\n",
      "65 1067.999999999992\n",
      "66 1057.3699999999922\n",
      "67 1061.4199999999923\n",
      "68 1058.4199999999923\n",
      "69 1093.609999999992\n",
      "70 1086.549999999992\n",
      "71 1090.469999999992\n",
      "72 1201.4899999999907\n",
      "73 1191.6399999999908\n",
      "74 1202.839999999991\n",
      "75 1193.0799999999913\n",
      "76 1179.6299999999915\n",
      "77 1179.0999999999915\n",
      "78 1251.2799999999902\n",
      "79 1283.2499999999902\n",
      "80 1294.0899999999904\n",
      "81 1306.4099999999903\n",
      "82 1303.6399999999903\n",
      "83 1314.7799999999904\n",
      "84 1306.0799999999906\n",
      "85 1304.6299999999906\n",
      "86 1352.989999999991\n",
      "87 1339.849999999991\n",
      "88 1376.6799999999937\n",
      "89 1370.2999999999938\n",
      "90 1453.6499999999942\n",
      "91 1440.5999999999945\n",
      "92 1431.5099999999945\n",
      "93 1448.0899999999936\n",
      "94 1568.8699999999933\n",
      "95 1580.1399999999933\n",
      "96 1582.0899999999933\n",
      "97 1656.4099999999933\n",
      "98 1691.3799999999949\n",
      "99 1693.519999999995\n",
      "100 1700.339999999995\n",
      "101 1699.619999999995\n",
      "102 1741.029999999995\n",
      "103 1774.1299999999956\n",
      "104 1790.8399999999951\n",
      "105 1824.749999999995\n",
      "106 1830.7199999999953\n",
      "107 1859.5799999999954\n",
      "108 1858.5799999999954\n",
      "109 1848.9499999999955\n",
      "110 1903.6999999999953\n",
      "111 1899.1399999999953\n",
      "112 1924.419999999994\n",
      "113 1924.5199999999938\n",
      "114 1926.649999999994\n",
      "115 1937.919999999994\n",
      "116 1972.2099999999944\n",
      "117 2010.4399999999948\n",
      "118 2073.139999999994\n",
      "119 2102.2999999999925\n",
      "120 2107.919999999993\n",
      "121 2134.2499999999927\n",
      "122 2177.6899999999923\n",
      "123 2174.1199999999926\n",
      "124 2213.149999999993\n",
      "125 2256.9199999999933\n",
      "126 2279.259999999993\n",
      "127 2309.2499999999927\n",
      "128 2367.6899999999932\n",
      "129 2359.1699999999933\n",
      "130 2366.4099999999935\n",
      "131 2390.3299999999936\n",
      "132 2440.009999999993\n",
      "133 2488.369999999994\n",
      "134 2517.979999999994\n",
      "135 2513.629999999994\n",
      "136 2559.459999999993\n",
      "137 2559.2199999999934\n",
      "138 2580.5199999999927\n",
      "139 2592.819999999992\n",
      "140 2587.219999999992\n",
      "141 2596.329999999992\n",
      "142 2734.9299999999903\n",
      "143 2754.5399999999904\n",
      "144 2757.50999999999\n",
      "145 2746.6399999999903\n",
      "146 2761.739999999989\n",
      "147 2768.199999999989\n",
      "148 2783.5199999999886\n",
      "149 2785.529999999989\n",
      "150 2783.479999999989\n",
      "151 2783.4699999999893\n",
      "152 2795.5999999999894\n",
      "153 2810.949999999989\n",
      "154 2840.5099999999884\n",
      "155 2834.7899999999886\n",
      "156 2853.099999999987\n",
      "157 2888.959999999987\n",
      "158 2896.029999999987\n",
      "159 2890.049999999987\n",
      "160 2913.6699999999864\n",
      "161 2908.2799999999866\n",
      "162 2926.6399999999862\n",
      "163 2924.2699999999863\n",
      "164 2949.879999999985\n",
      "165 2951.759999999985\n",
      "166 2958.0899999999856\n",
      "167 2984.989999999984\n",
      "168 2990.449999999984\n",
      "169 2983.689999999984\n",
      "170 3018.5699999999856\n",
      "171 3042.409999999985\n",
      "172 3093.5599999999845\n",
      "173 3103.329999999985\n",
      "174 3124.859999999985\n",
      "175 3248.8299999999813\n",
      "176 3251.429999999981\n",
      "177 3366.6999999999803\n",
      "178 3377.8599999999806\n",
      "179 3400.609999999979\n",
      "180 3426.339999999978\n",
      "181 3432.9199999999782\n",
      "182 3434.4499999999784\n",
      "183 3491.7799999999784\n",
      "184 3583.3899999999785\n",
      "185 3584.5399999999786\n",
      "186 3578.2499999999786\n",
      "187 3620.159999999979\n",
      "188 3647.529999999979\n",
      "189 3670.4899999999784\n",
      "190 3707.8799999999787\n",
      "191 3713.3999999999787\n",
      "192 3723.239999999979\n",
      "193 3763.9599999999796\n",
      "194 3824.3899999999794\n",
      "195 3834.7099999999796\n",
      "196 3874.8799999999806\n",
      "197 3871.9099999999808\n",
      "198 3885.8399999999806\n",
      "199 3884.889999999981\n",
      "200 3890.869999999981\n",
      "201 3903.379999999981\n",
      "202 3901.169999999981\n",
      "203 4045.3599999999815\n",
      "204 4106.309999999982\n",
      "205 4140.4899999999825\n",
      "206 4165.909999999982\n",
      "207 4153.689999999982\n",
      "208 4147.319999999982\n",
      "209 4167.289999999982\n",
      "210 4156.779999999982\n",
      "211 4154.389999999981\n",
      "212 4166.669999999981\n",
      "213 4160.289999999981\n",
      "214 4232.949999999981\n",
      "215 4238.309999999981\n",
      "216 4233.0699999999815\n",
      "217 4253.079999999982\n",
      "218 4242.629999999982\n",
      "219 4248.089999999982\n",
      "220 4281.869999999982\n",
      "221 4337.239999999982\n",
      "222 4355.629999999981\n",
      "223 4368.289999999981\n",
      "224 4379.389999999981\n",
      "225 4391.839999999981\n",
      "226 4487.24999999998\n",
      "227 4502.65999999998\n",
      "228 4498.60999999998\n",
      "229 4507.639999999979\n",
      "230 4522.35999999998\n",
      "231 4543.0599999999795\n",
      "232 4541.81999999998\n",
      "233 4614.989999999979\n",
      "234 4605.829999999979\n",
      "235 4619.47999999998\n",
      "236 4620.679999999979\n",
      "237 4630.179999999979\n",
      "238 4622.539999999979\n",
      "239 4622.049999999979\n",
      "240 4638.789999999978\n",
      "241 4692.549999999978\n",
      "242 4769.609999999977\n",
      "243 4765.749999999977\n",
      "244 4761.289999999977\n",
      "245 4763.679999999978\n",
      "246 4766.539999999978\n",
      "247 4757.409999999978\n",
      "248 4767.049999999978\n",
      "249 4760.9299999999785\n",
      "250 4760.5999999999785\n",
      "251 4786.249999999977\n",
      "252 4803.069999999976\n",
      "253 4818.099999999976\n",
      "254 4823.449999999976\n",
      "255 4819.319999999976\n",
      "256 4828.139999999976\n",
      "257 4847.019999999976\n",
      "258 4907.119999999977\n",
      "259 4896.609999999977\n",
      "260 4988.369999999976\n",
      "261 5024.119999999977\n",
      "262 5023.489999999977\n",
      "263 5027.7599999999775\n",
      "264 5025.609999999978\n",
      "265 5028.559999999978\n",
      "266 5024.619999999978\n",
      "267 5042.729999999978\n",
      "268 5072.049999999978\n",
      "269 5061.979999999979\n",
      "270 5144.859999999979\n",
      "271 5164.329999999978\n",
      "272 5161.509999999978\n",
      "273 5161.169999999978\n",
      "274 5161.1399999999785\n",
      "275 5154.399999999979\n",
      "276 5201.949999999978\n",
      "277 5205.139999999978\n",
      "278 5224.969999999977\n",
      "279 5228.259999999977\n",
      "280 5242.469999999977\n",
      "281 5272.339999999976\n",
      "282 5289.069999999975\n",
      "283 5306.989999999973\n",
      "284 5350.249999999974\n",
      "285 5387.559999999973\n",
      "286 5440.0799999999745\n",
      "287 5438.529999999974\n",
      "288 5465.019999999973\n",
      "289 5508.119999999973\n",
      "290 5568.449999999973\n",
      "291 5610.749999999974\n",
      "292 5608.689999999974\n",
      "293 5602.159999999974\n",
      "294 5652.229999999975\n",
      "295 5720.739999999973\n",
      "296 5723.679999999974\n",
      "297 5717.009999999974\n",
      "298 5708.259999999974\n",
      "299\n"
     ]
    }
   ],
   "source": [
    "avg = []\n",
    "for i in range(x.shape[0]):\n",
    "    rewards = sum(y[0:i])\n",
    "    print(i, rewards)\n",
    "    avg.append(rewards/x[i])\n",
    "print(len(avg))"
   ]
  },
  {
   "cell_type": "code",
   "execution_count": 25,
   "metadata": {},
   "outputs": [
    {
     "data": {
      "image/png": "[encoded data removed]",
      "text/plain": [
       "<Figure size 432x288 with 1 Axes>"
      ]
     },
     "metadata": {
      "needs_background": "light"
     },
     "output_type": "display_data"
    }
   ],
   "source": [
    "x = np.arange(1, len(episode_rewards)+1, 1)\n",
    "y = episode_rewards\n",
    "plt.plot(x,y, color = 'Purple', label = 'Actual Reward')\n",
    "plt.plot(x, avg, color = 'Blue', label = 'Average Reward')\n",
    "plt.xlabel('Episodes')\n",
    "plt.ylabel('Reward')\n",
    "plt.title('Rewards recieved for REINFORCE trained on chars')\n",
    "plt.legend()\n",
    "plt.show()"
   ]
  },
  {
   "cell_type": "code",
   "execution_count": null,
   "metadata": {},
   "outputs": [],
   "source": []
  },
  {
   "cell_type": "code",
   "execution_count": null,
   "metadata": {},
   "outputs": [],
   "source": []
  },
  {
   "cell_type": "code",
   "execution_count": null,
   "metadata": {},
   "outputs": [],
   "source": []
  }
 ],
 "metadata": {
  "kernelspec": {
   "display_name": "Python 3",
   "language": "python",
   "name": "python3"
  },
  "language_info": {
   "codemirror_mode": {
    "name": "ipython",
    "version": 3
   },
   "file_extension": ".py",
   "mimetype": "text/x-python",
   "name": "python",
   "nbconvert_exporter": "python",
   "pygments_lexer": "ipython3",
   "version": "3.8.5"
  }
 },
 "nbformat": 4,
 "nbformat_minor": 4
}
