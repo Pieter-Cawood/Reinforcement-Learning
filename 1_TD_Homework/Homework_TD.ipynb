{
 "cells": [
  {
   "cell_type": "code",
   "execution_count": 1,
   "metadata": {},
   "outputs": [],
   "source": [
    "# Group Members\n",
    "# Shikash Algu: 2373769\n",
    "# Byron Gomes: 0709942R\n",
    "# Clarise Poobalan: 383321\n",
    "# Nicolaas Cawood: 2376182\n",
    "\n",
    "import numpy as np\n",
    "import matplotlib.pyplot as plt\n",
    "import gym"
   ]
  },
  {
   "cell_type": "code",
   "execution_count": 2,
   "metadata": {},
   "outputs": [],
   "source": [
    "env = gym.make('CliffWalking-v0')"
   ]
  },
  {
   "cell_type": "code",
   "execution_count": 3,
   "metadata": {},
   "outputs": [
    {
     "name": "stdout",
     "output_type": "stream",
     "text": [
      "o  o  o  o  o  o  o  o  o  o  o  o\n",
      "o  o  o  o  o  o  o  o  o  o  o  o\n",
      "o  o  o  o  o  o  o  o  o  o  o  o\n",
      "x  C  C  C  C  C  C  C  C  C  C  T\n",
      "\n"
     ]
    },
    {
     "data": {
      "text/plain": [
       "36"
      ]
     },
     "execution_count": 3,
     "metadata": {},
     "output_type": "execute_result"
    }
   ],
   "source": [
    "state = env.reset()\n",
    "env.render()\n",
    "state"
   ]
  },
  {
   "cell_type": "code",
   "execution_count": 4,
   "metadata": {},
   "outputs": [
    {
     "data": {
      "text/plain": [
       "2"
      ]
     },
     "execution_count": 4,
     "metadata": {},
     "output_type": "execute_result"
    }
   ],
   "source": [
    "action = env.action_space.sample()\n",
    "action"
   ]
  },
  {
   "cell_type": "code",
   "execution_count": 5,
   "metadata": {},
   "outputs": [],
   "source": [
    "def Sarsa_lam(env,episodes,epsilon,alpha,lambda_s,gamma):\n",
    "    #Initialize Q(s,a) and e(s,a)\n",
    "    Q=np.zeros((env.nS,env.nA))\n",
    "    e=np.zeros((env.nS,env.nA))   \n",
    "    hold_array=np.zeros((env.shape[0],env.shape[1],episodes))\n",
    "    \n",
    "    #Repeat (for each step of episode)    \n",
    "    for episode in range(episodes):\n",
    "        state = env.reset()\n",
    "        action = env.action_space.sample()\n",
    "        \n",
    "        #repeat for each step in episode\n",
    "       # while True:\n",
    "        count=0\n",
    "        for i in range(1000):        \n",
    "            #Take action a, observe r and s'\n",
    "            state_prime, reward, done, info = env.step(action)\n",
    "\n",
    "            #Choose a' from s' using policy deriver from greedy\n",
    "            action_prime=np.argmax(Q[state_prime])\n",
    "            if np.random.random()<epsilon:\n",
    "                action_prime=env.action_space.sample() # A random action with prob eps,#bandit algo.\n",
    "\n",
    "            #Gamma\n",
    "            delta=reward+gamma*Q[state_prime,action_prime]-Q[state,action]\n",
    "            e[state,action]=e[state,action]+1\n",
    "\n",
    "            #for all s,a\n",
    "            for s in range(env.nS):\n",
    "                for a in range(env.nA):\n",
    "                    Q[s,a]=Q[s,a]+alpha*delta*e[s,a]\n",
    "                    e[s,a]=gamma*lambda_s*e[s,a]\n",
    "\n",
    "            state=state_prime\n",
    "            action=action_prime\n",
    "\n",
    "            if done:\n",
    "              #  print(\"Done\",count)\n",
    "               # print(Q)\n",
    "                hold_array[:,:,episode]=np.reshape(Q.max(axis=1),(4,12))\n",
    "                break\n",
    "            count+=1\n",
    "            \n",
    "    return hold_array"
   ]
  },
  {
   "cell_type": "code",
   "execution_count": 6,
   "metadata": {},
   "outputs": [
    {
     "name": "stdout",
     "output_type": "stream",
     "text": [
      "0\n",
      "1\n",
      "2\n",
      "3\n"
     ]
    },
    {
     "ename": "KeyboardInterrupt",
     "evalue": "",
     "output_type": "error",
     "traceback": [
      "\u001b[1;31m---------------------------------------------------------------------------\u001b[0m",
      "\u001b[1;31mKeyboardInterrupt\u001b[0m                         Traceback (most recent call last)",
      "\u001b[1;32m<ipython-input-6-527bb4c11579>\u001b[0m in \u001b[0;36m<module>\u001b[1;34m\u001b[0m\n\u001b[0;32m     12\u001b[0m \u001b[0mQ_3\u001b[0m\u001b[1;33m=\u001b[0m\u001b[0mSarsa_lam\u001b[0m\u001b[1;33m(\u001b[0m\u001b[0menv\u001b[0m\u001b[1;33m,\u001b[0m\u001b[0mepisodes\u001b[0m\u001b[1;33m,\u001b[0m\u001b[0mepsilon\u001b[0m\u001b[1;33m,\u001b[0m\u001b[0malpha\u001b[0m\u001b[1;33m,\u001b[0m\u001b[1;36m0.7\u001b[0m\u001b[1;33m,\u001b[0m\u001b[0mgamma\u001b[0m\u001b[1;33m)\u001b[0m\u001b[1;33m\u001b[0m\u001b[1;33m\u001b[0m\u001b[0m\n\u001b[0;32m     13\u001b[0m \u001b[0mprint\u001b[0m\u001b[1;33m(\u001b[0m\u001b[1;34m\"3\"\u001b[0m\u001b[1;33m)\u001b[0m\u001b[1;33m\u001b[0m\u001b[1;33m\u001b[0m\u001b[0m\n\u001b[1;32m---> 14\u001b[1;33m \u001b[0mQ_4\u001b[0m\u001b[1;33m=\u001b[0m\u001b[0mSarsa_lam\u001b[0m\u001b[1;33m(\u001b[0m\u001b[0menv\u001b[0m\u001b[1;33m,\u001b[0m\u001b[0mepisodes\u001b[0m\u001b[1;33m,\u001b[0m\u001b[0mepsilon\u001b[0m\u001b[1;33m,\u001b[0m\u001b[0malpha\u001b[0m\u001b[1;33m,\u001b[0m\u001b[1;36m0.9\u001b[0m\u001b[1;33m,\u001b[0m\u001b[0mgamma\u001b[0m\u001b[1;33m)\u001b[0m\u001b[1;33m\u001b[0m\u001b[1;33m\u001b[0m\u001b[0m\n\u001b[0m",
      "\u001b[1;32m<ipython-input-5-17e88c579bf7>\u001b[0m in \u001b[0;36mSarsa_lam\u001b[1;34m(env, episodes, epsilon, alpha, lambda_s, gamma)\u001b[0m\n\u001b[0;32m     15\u001b[0m         \u001b[1;32mfor\u001b[0m \u001b[0mi\u001b[0m \u001b[1;32min\u001b[0m \u001b[0mrange\u001b[0m\u001b[1;33m(\u001b[0m\u001b[1;36m1000\u001b[0m\u001b[1;33m)\u001b[0m\u001b[1;33m:\u001b[0m\u001b[1;33m\u001b[0m\u001b[1;33m\u001b[0m\u001b[0m\n\u001b[0;32m     16\u001b[0m             \u001b[1;31m#Take action a, observe r and s'\u001b[0m\u001b[1;33m\u001b[0m\u001b[1;33m\u001b[0m\u001b[1;33m\u001b[0m\u001b[0m\n\u001b[1;32m---> 17\u001b[1;33m             \u001b[0mstate_prime\u001b[0m\u001b[1;33m,\u001b[0m \u001b[0mreward\u001b[0m\u001b[1;33m,\u001b[0m \u001b[0mdone\u001b[0m\u001b[1;33m,\u001b[0m \u001b[0minfo\u001b[0m \u001b[1;33m=\u001b[0m \u001b[0menv\u001b[0m\u001b[1;33m.\u001b[0m\u001b[0mstep\u001b[0m\u001b[1;33m(\u001b[0m\u001b[0maction\u001b[0m\u001b[1;33m)\u001b[0m\u001b[1;33m\u001b[0m\u001b[1;33m\u001b[0m\u001b[0m\n\u001b[0m\u001b[0;32m     18\u001b[0m \u001b[1;33m\u001b[0m\u001b[0m\n\u001b[0;32m     19\u001b[0m             \u001b[1;31m#Choose a' from s' using policy deriver from greedy\u001b[0m\u001b[1;33m\u001b[0m\u001b[1;33m\u001b[0m\u001b[1;33m\u001b[0m\u001b[0m\n",
      "\u001b[1;32m~\\AppData\\Roaming\\Python\\Python37\\site-packages\\gym\\envs\\toy_text\\discrete.py\u001b[0m in \u001b[0;36mstep\u001b[1;34m(self, a)\u001b[0m\n\u001b[0;32m     53\u001b[0m     \u001b[1;32mdef\u001b[0m \u001b[0mstep\u001b[0m\u001b[1;33m(\u001b[0m\u001b[0mself\u001b[0m\u001b[1;33m,\u001b[0m \u001b[0ma\u001b[0m\u001b[1;33m)\u001b[0m\u001b[1;33m:\u001b[0m\u001b[1;33m\u001b[0m\u001b[1;33m\u001b[0m\u001b[0m\n\u001b[0;32m     54\u001b[0m         \u001b[0mtransitions\u001b[0m \u001b[1;33m=\u001b[0m \u001b[0mself\u001b[0m\u001b[1;33m.\u001b[0m\u001b[0mP\u001b[0m\u001b[1;33m[\u001b[0m\u001b[0mself\u001b[0m\u001b[1;33m.\u001b[0m\u001b[0ms\u001b[0m\u001b[1;33m]\u001b[0m\u001b[1;33m[\u001b[0m\u001b[0ma\u001b[0m\u001b[1;33m]\u001b[0m\u001b[1;33m\u001b[0m\u001b[1;33m\u001b[0m\u001b[0m\n\u001b[1;32m---> 55\u001b[1;33m         \u001b[0mi\u001b[0m \u001b[1;33m=\u001b[0m \u001b[0mcategorical_sample\u001b[0m\u001b[1;33m(\u001b[0m\u001b[1;33m[\u001b[0m\u001b[0mt\u001b[0m\u001b[1;33m[\u001b[0m\u001b[1;36m0\u001b[0m\u001b[1;33m]\u001b[0m \u001b[1;32mfor\u001b[0m \u001b[0mt\u001b[0m \u001b[1;32min\u001b[0m \u001b[0mtransitions\u001b[0m\u001b[1;33m]\u001b[0m\u001b[1;33m,\u001b[0m \u001b[0mself\u001b[0m\u001b[1;33m.\u001b[0m\u001b[0mnp_random\u001b[0m\u001b[1;33m)\u001b[0m\u001b[1;33m\u001b[0m\u001b[1;33m\u001b[0m\u001b[0m\n\u001b[0m\u001b[0;32m     56\u001b[0m         \u001b[0mp\u001b[0m\u001b[1;33m,\u001b[0m \u001b[0ms\u001b[0m\u001b[1;33m,\u001b[0m \u001b[0mr\u001b[0m\u001b[1;33m,\u001b[0m \u001b[0md\u001b[0m\u001b[1;33m=\u001b[0m \u001b[0mtransitions\u001b[0m\u001b[1;33m[\u001b[0m\u001b[0mi\u001b[0m\u001b[1;33m]\u001b[0m\u001b[1;33m\u001b[0m\u001b[1;33m\u001b[0m\u001b[0m\n\u001b[0;32m     57\u001b[0m         \u001b[0mself\u001b[0m\u001b[1;33m.\u001b[0m\u001b[0ms\u001b[0m \u001b[1;33m=\u001b[0m \u001b[0ms\u001b[0m\u001b[1;33m\u001b[0m\u001b[1;33m\u001b[0m\u001b[0m\n",
      "\u001b[1;32m~\\AppData\\Roaming\\Python\\Python37\\site-packages\\gym\\envs\\toy_text\\discrete.py\u001b[0m in \u001b[0;36mcategorical_sample\u001b[1;34m(prob_n, np_random)\u001b[0m\n\u001b[0;32m     11\u001b[0m     \u001b[0mprob_n\u001b[0m \u001b[1;33m=\u001b[0m \u001b[0mnp\u001b[0m\u001b[1;33m.\u001b[0m\u001b[0masarray\u001b[0m\u001b[1;33m(\u001b[0m\u001b[0mprob_n\u001b[0m\u001b[1;33m)\u001b[0m\u001b[1;33m\u001b[0m\u001b[1;33m\u001b[0m\u001b[0m\n\u001b[0;32m     12\u001b[0m     \u001b[0mcsprob_n\u001b[0m \u001b[1;33m=\u001b[0m \u001b[0mnp\u001b[0m\u001b[1;33m.\u001b[0m\u001b[0mcumsum\u001b[0m\u001b[1;33m(\u001b[0m\u001b[0mprob_n\u001b[0m\u001b[1;33m)\u001b[0m\u001b[1;33m\u001b[0m\u001b[1;33m\u001b[0m\u001b[0m\n\u001b[1;32m---> 13\u001b[1;33m     \u001b[1;32mreturn\u001b[0m \u001b[1;33m(\u001b[0m\u001b[0mcsprob_n\u001b[0m \u001b[1;33m>\u001b[0m \u001b[0mnp_random\u001b[0m\u001b[1;33m.\u001b[0m\u001b[0mrand\u001b[0m\u001b[1;33m(\u001b[0m\u001b[1;33m)\u001b[0m\u001b[1;33m)\u001b[0m\u001b[1;33m.\u001b[0m\u001b[0margmax\u001b[0m\u001b[1;33m(\u001b[0m\u001b[1;33m)\u001b[0m\u001b[1;33m\u001b[0m\u001b[1;33m\u001b[0m\u001b[0m\n\u001b[0m\u001b[0;32m     14\u001b[0m \u001b[1;33m\u001b[0m\u001b[0m\n\u001b[0;32m     15\u001b[0m \u001b[1;33m\u001b[0m\u001b[0m\n",
      "\u001b[1;31mKeyboardInterrupt\u001b[0m: "
     ]
    }
   ],
   "source": [
    "episodes=500\n",
    "epsilon=0.1\n",
    "alpha=0.5\n",
    "gamma=1\n",
    "\n",
    "Q_0=Sarsa_lam(env,episodes,epsilon,alpha,0,gamma)#(env,episodes,epsilon,alpha,lambda_s,gamma):,{0,0.3,0.5,0.7,0.9}\n",
    "print(\"0\")\n",
    "Q_1=Sarsa_lam(env,episodes,epsilon,alpha,0.3,gamma)\n",
    "print(\"1\")\n",
    "Q_2=Sarsa_lam(env,episodes,epsilon,alpha,0.5,gamma)\n",
    "print(\"2\")\n",
    "Q_3=Sarsa_lam(env,episodes,epsilon,alpha,0.7,gamma)\n",
    "print(\"3\")\n",
    "Q_4=Sarsa_lam(env,episodes,epsilon,alpha,0.9,gamma)\n"
   ]
  },
  {
   "cell_type": "code",
   "execution_count": 40,
   "metadata": {},
   "outputs": [
    {
     "data": {
      "image/png": "[encoded data removed]",
      "text/plain": [
       "<Figure size 1440x1440 with 5 Axes>"
      ]
     },
     "metadata": {
      "needs_background": "light"
     },
     "output_type": "display_data"
    }
   ],
   "source": [
    "    plt.figure(figsize=(20,20))\n",
    "    \n",
    "    episode_to_view=100\n",
    "    \n",
    "    plt.subplot(1,5, 1).set_title(\"Lambda 0\"),plt.imshow(Q_0[:,:,episode_to_view],cmap=\"inferno\")\n",
    "    plt.subplot(1,5, 2).set_title(\"Lambda 0.3\"),plt.imshow(Q_1[:,:,episode_to_view],cmap=\"inferno\")\n",
    "    plt.subplot(1,5, 3).set_title(\"Lambda 0.5\"),plt.imshow(Q_2[:,:,episode_to_view],cmap=\"inferno\")\n",
    "    plt.subplot(1,5, 4).set_title(\"Lambda 0.7\"),plt.imshow(Q_3[:,:,episode_to_view],cmap=\"inferno\")\n",
    "    plt.subplot(1,5, 5).set_title(\"Lambda 0.9\"),plt.imshow(Q_4[:,:,episode_to_view],cmap=\"inferno\")\n",
    "\n",
    "    plt.subplots_adjust(left=None, bottom=None, right=None, top=None, wspace=0.5, hspace=None)"
   ]
  },
  {
   "cell_type": "code",
   "execution_count": 35,
   "metadata": {},
   "outputs": [],
   "source": [
    "# np.save(\"Q_0\",Q_0)\n",
    "# np.save(\"Q_1\",Q_1)\n",
    "# np.save(\"Q_2\",Q_2)\n",
    "# np.save(\"Q_3\",Q_3)\n",
    "# np.save(\"Q_4\",Q_4)"
   ]
  },
  {
   "cell_type": "code",
   "execution_count": null,
   "metadata": {},
   "outputs": [],
   "source": [
    "# Q_0=np.load(\"Q_0.npy\")\n",
    "# Q_1=np.load(\"Q_1.npy\")\n",
    "# Q_2=np.load(\"Q_2.npy\")\n",
    "# Q_3=np.load(\"Q_3.npy\")\n",
    "# Q_4=np.load(\"Q_4.npy\")"
   ]
  },
  {
   "cell_type": "markdown",
   "metadata": {},
   "source": [
    "To create the 500 images, run the below code"
   ]
  },
  {
   "cell_type": "code",
   "execution_count": null,
   "metadata": {},
   "outputs": [],
   "source": [
    "# #{0,0.3,0.5,0.7,0.9}\n",
    "\n",
    "# for i in range(Q_0.shape[2]):\n",
    "#     plt.figure(figsize=(20,20))\n",
    "#     plt.subplot(1,5, 1).set_title(\"Lambda 0\"),plt.imshow(Q_0[:,:,i],cmap=\"inferno\")\n",
    "#     plt.subplot(1,5, 2).set_title(\"Lambda 0.3\"),plt.imshow(Q_1[:,:,i],cmap=\"inferno\")\n",
    "#     plt.subplot(1,5, 3).set_title(\"Lambda 0.5\"),plt.imshow(Q_2[:,:,i],cmap=\"inferno\")\n",
    "#     plt.subplot(1,5, 4).set_title(\"Lambda 0.7\"),plt.imshow(Q_3[:,:,i],cmap=\"inferno\")\n",
    "#     plt.subplot(1,5, 5).set_title(\"Lambda 0.9\"),plt.imshow(Q_4[:,:,i],cmap=\"inferno\")\n",
    "\n",
    "#     plt.subplots_adjust(left=None, bottom=None, right=None, top=None, wspace=0.5, hspace=None)\n",
    "#     hold=\"Vid\"+str(i)+\".png\"\n",
    "#     plt.savefig(hold)"
   ]
  },
  {
   "cell_type": "markdown",
   "metadata": {},
   "source": [
    "Video created with images above using MS video creator"
   ]
  },
  {
   "cell_type": "code",
   "execution_count": null,
   "metadata": {},
   "outputs": [],
   "source": []
  }
 ],
 "metadata": {
  "kernelspec": {
   "display_name": "Python 3",
   "language": "python",
   "name": "python3"
  },
  "language_info": {
   "codemirror_mode": {
    "name": "ipython",
    "version": 3
   },
   "file_extension": ".py",
   "mimetype": "text/x-python",
   "name": "python",
   "nbconvert_exporter": "python",
   "pygments_lexer": "ipython3",
   "version": "3.7.6"
  }
 },
 "nbformat": 4,
 "nbformat_minor": 4
}
