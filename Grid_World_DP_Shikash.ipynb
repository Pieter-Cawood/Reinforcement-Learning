{
 "cells": [
  {
   "cell_type": "code",
   "execution_count": 57,
   "metadata": {},
   "outputs": [],
   "source": [
    "import numpy as np\n",
    "import matplotlib.pyplot as plt"
   ]
  },
  {
   "cell_type": "code",
   "execution_count": 58,
   "metadata": {},
   "outputs": [],
   "source": [
    "def create_world(size):\n",
    "    print(\"Grid world with rows =\", size,\"and cols =\",size, \"created\")\n",
    "    return np.zeros((size,size))"
   ]
  },
  {
   "cell_type": "code",
   "execution_count": 64,
   "metadata": {},
   "outputs": [],
   "source": [
    "def actions(row,col,goal):\n",
    "    \n",
    "    if (row==goal[0]) and (col==goal[1]):\n",
    "        next_state=[row,col]\n",
    "        reward=0\n",
    "        return next_state,reward\n",
    "    \n",
    "    count=0\n",
    "    \n",
    "    actions=[(0,-1),(0,+1),(+1,0),(-1,0)]# move down,move up,move right,move left\n",
    "    \n",
    "    for i in range(len(actions)):\n",
    "        row_possible=row+actions[i][0]\n",
    "        col_possible=col+actions[i][1]\n",
    "        valid=\"T\"\n",
    "            \n",
    "        if (col_possible<0) or (col_possible>4):\n",
    "            print(\"cant move left and right\")\n",
    "            row_possible=row\n",
    "            col_possible=col\n",
    "            valid=\"F\"\n",
    "            \n",
    "        if (row_possible<0) or (row_possible>4):\n",
    "            print(\"cant move up or down\")\n",
    "            row_possible=row\n",
    "            col_possible=col\n",
    "            valid=\"F\"\n",
    "            \n",
    "        if valid==\"T\":\n",
    "            print(\"action possible\")\n",
    "            count+=1   \n",
    "    reward=-4\n",
    "            \n",
    "    return row_possible,col_possible,reward"
   ]
  },
  {
   "cell_type": "code",
   "execution_count": 65,
   "metadata": {},
   "outputs": [
    {
     "name": "stdout",
     "output_type": "stream",
     "text": [
      "cant move left and right\n",
      "action possible\n",
      "action possible\n",
      "action possible\n"
     ]
    },
    {
     "data": {
      "text/plain": [
       "(0, 0, -4)"
      ]
     },
     "execution_count": 65,
     "metadata": {},
     "output_type": "execute_result"
    }
   ],
   "source": [
    "actions(1,0,[0,0])"
   ]
  },
  {
   "cell_type": "code",
   "execution_count": 61,
   "metadata": {},
   "outputs": [
    {
     "data": {
      "text/plain": [
       "False"
      ]
     },
     "execution_count": 61,
     "metadata": {},
     "output_type": "execute_result"
    }
   ],
   "source": [
    "4>4"
   ]
  },
  {
   "cell_type": "code",
   "execution_count": null,
   "metadata": {},
   "outputs": [],
   "source": []
  }
 ],
 "metadata": {
  "kernelspec": {
   "display_name": "Python 3",
   "language": "python",
   "name": "python3"
  },
  "language_info": {
   "codemirror_mode": {
    "name": "ipython",
    "version": 3
   },
   "file_extension": ".py",
   "mimetype": "text/x-python",
   "name": "python",
   "nbconvert_exporter": "python",
   "pygments_lexer": "ipython3",
   "version": "3.7.3"
  }
 },
 "nbformat": 4,
 "nbformat_minor": 4
}
