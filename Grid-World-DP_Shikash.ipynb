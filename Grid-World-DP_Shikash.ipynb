{
 "cells": [
  {
   "cell_type": "code",
   "execution_count": 84,
   "metadata": {},
   "outputs": [],
   "source": [
    "import numpy as np\n",
    "import pandas as pd\n",
    "import matplotlib.pyplot as plt\n",
    "import seaborn as sns"
   ]
  },
  {
   "cell_type": "code",
   "execution_count": 85,
   "metadata": {},
   "outputs": [],
   "source": [
    "def create_world(size):\n",
    "    print(\"Grid world with rows =\", size,\"and cols =\",size, \"created\")\n",
    "    return np.zeros((size,size))"
   ]
  },
  {
   "cell_type": "code",
   "execution_count": 86,
   "metadata": {},
   "outputs": [
    {
     "name": "stdout",
     "output_type": "stream",
     "text": [
      "Grid world with rows = 4 and cols = 4 created\n"
     ]
    }
   ],
   "source": [
    "grid=create_world(4)"
   ]
  },
  {
   "cell_type": "code",
   "execution_count": 87,
   "metadata": {},
   "outputs": [],
   "source": [
    "def two_array(grid,discount):\n",
    "    goal=[0,0]\n",
    "    reward=-1\n",
    "    prob=0.25\n",
    "    delta=0.01\n",
    "    actions=[(0,-1),(0,+1),(+1,0),(-1,0)]# move down,move up,move right,move left\n",
    "    value_fn = np.zeros((grid.shape[0],grid.shape[1]))\n",
    "    old_value_fn = np.zeros((grid.shape[0],grid.shape[1]))\n",
    "    p=0\n",
    "    while True:\n",
    "        #print(p)\n",
    "        old_value_fn = value_fn\n",
    "        value_fn = np.zeros((4,4))\n",
    "        for row in range(grid.shape[0]):# 0 1 2 3 \n",
    "            for col in range(grid.shape[1]):\n",
    "                value=0\n",
    "                if goal!=[row,col]:\n",
    "                    for act in range(len(actions)):\n",
    "                        row_possible=row+actions[act][0]\n",
    "                        col_possible=col+actions[act][1]\n",
    "\n",
    "                        if (col_possible<0) or (col_possible>3):\n",
    "                            #print(\"cant move left and right\")\n",
    "                            row_possible=row\n",
    "                            col_possible=col\n",
    "\n",
    "                        if (row_possible<0) or (row_possible>=3):\n",
    "                            #print(\"cant move up or down\")\n",
    "                            row_possible=row\n",
    "                            col_possible=col\n",
    "                       # print(row_possible,col_possible)\n",
    "                        value =value+ 0.25 * (reward + discount * old_value_fn[row_possible, col_possible])\n",
    "                    value_fn[row,col]=value  \n",
    "                else:\n",
    "                    value =value+ 0.25 * (0 + discount * old_value_fn[row, col])\n",
    "                    #print(\"goal,val\",value)\n",
    "                    #print(\"pass\",row,col)\n",
    "                    value_fn[row,col]=value \n",
    "                    pass\n",
    "        change=abs(old_value_fn-value_fn).max()\n",
    "       # print(change)\n",
    "        if change< delta:\n",
    "            break\n",
    "        p+=1\n",
    "        #print(value_fn)\n",
    "    return value_fn,p"
   ]
  },
  {
   "cell_type": "code",
   "execution_count": 88,
   "metadata": {},
   "outputs": [
    {
     "name": "stdout",
     "output_type": "stream",
     "text": [
      "2-Array iterations: 173\n"
     ]
    }
   ],
   "source": [
    "val_2a,p_2a=two_array(grid,discount=1)\n",
    "\n",
    "print(\"2-Array iterations:\",p_2a+1)"
   ]
  },
  {
   "cell_type": "code",
   "execution_count": 89,
   "metadata": {},
   "outputs": [
    {
     "data": {
      "text/plain": [
       "<matplotlib.axes._subplots.AxesSubplot at 0x1fbc26fae48>"
      ]
     },
     "execution_count": 89,
     "metadata": {},
     "output_type": "execute_result"
    },
    {
     "data": {
      "image/png": "[encoded data removed]",
      "text/plain": [
       "<Figure size 432x288 with 2 Axes>"
      ]
     },
     "metadata": {
      "needs_background": "light"
     },
     "output_type": "display_data"
    }
   ],
   "source": [
    "sns.heatmap(val_2a,annot=True)"
   ]
  },
  {
   "cell_type": "code",
   "execution_count": 90,
   "metadata": {},
   "outputs": [],
   "source": [
    "def one_array(grid,discount):\n",
    "    goal=[0,0]\n",
    "    actions=[(0,-1),(0,+1),(+1,0),(-1,0)]# move down,move up,move right,move left\n",
    "    reward=-1\n",
    "    prob=0.25\n",
    "    delta=0.01\n",
    "    value_fn = np.zeros((grid.shape[0],grid.shape[1]))\n",
    "   # old_value_fn = np.zeros((grid.shape[0],grid.shape[1]))\n",
    "\n",
    "    #for p in range(181):\n",
    "    p=0\n",
    "    change=1000\n",
    "    while True:\n",
    "        #print(p)\n",
    "        old_value_fn = value_fn\n",
    "        for row in range(grid.shape[0]):# 0 1 2 3 \n",
    "            for col in range(grid.shape[1]):\n",
    "                value=0\n",
    "                if goal!=[row,col]:\n",
    "                    for act in range(len(actions)):\n",
    "                        row_possible=row+actions[act][0]\n",
    "                        col_possible=col+actions[act][1]\n",
    "\n",
    "                        if (col_possible<0) or (col_possible>3):\n",
    "                            #print(\"cant move left and right\")\n",
    "                            row_possible=row\n",
    "                            col_possible=col\n",
    "\n",
    "                        if (row_possible<0) or (row_possible>=3):\n",
    "                            #print(\"cant move up or down\")\n",
    "                            row_possible=row\n",
    "                            col_possible=col\n",
    "                       # print(row_possible,col_possible)\n",
    "                        value =value+ 0.25 * (reward + discount * value_fn[row_possible, col_possible])\n",
    "                    value_fn[row,col]=value  \n",
    "                    change=abs(old_value_fn-value_fn).max()\n",
    "                    #print(\"Here\")\n",
    "                else:\n",
    "                    value =value+ 0.25 * (0 + discount * value_fn[row, col])\n",
    "                    #print(\"goal,val\",value)\n",
    "                    #print(\"pass\",row,col)\n",
    "                    value_fn[row,col]=value \n",
    "                    pass\n",
    "\n",
    "       # print(change)\n",
    "        \n",
    "        if change < delta:\n",
    "            #print(\"break\")\n",
    "            break\n",
    "        #print(value_fn)\n",
    "        p+=1\n",
    "    return value_fn,p"
   ]
  },
  {
   "cell_type": "code",
   "execution_count": 91,
   "metadata": {},
   "outputs": [
    {
     "name": "stdout",
     "output_type": "stream",
     "text": [
      "2-Array iterations: 1\n"
     ]
    }
   ],
   "source": [
    "val_1,p_1=one_array(grid,discount=1)\n",
    "val_1\n",
    "print(\"2-Array iterations:\",p_1+1)"
   ]
  },
  {
   "cell_type": "code",
   "execution_count": 92,
   "metadata": {},
   "outputs": [
    {
     "data": {
      "text/plain": [
       "<matplotlib.axes._subplots.AxesSubplot at 0x1fbc2599908>"
      ]
     },
     "execution_count": 92,
     "metadata": {},
     "output_type": "execute_result"
    },
    {
     "data": {
      "image/png": "[encoded data removed]",
      "text/plain": [
       "<Figure size 432x288 with 2 Axes>"
      ]
     },
     "metadata": {
      "needs_background": "light"
     },
     "output_type": "display_data"
    }
   ],
   "source": [
    "sns.heatmap(val_1,annot=True)"
   ]
  },
  {
   "cell_type": "markdown",
   "metadata": {},
   "source": [
    "Combined_plot"
   ]
  },
  {
   "cell_type": "code",
   "execution_count": 93,
   "metadata": {},
   "outputs": [],
   "source": [
    "discount_vals=np.logspace(-0.2,0,num=20)\n",
    "iter_2D=[]\n",
    "vals_2D=[]\n",
    "\n",
    "iter_1D=[]\n",
    "vals_1D=[]\n"
   ]
  },
  {
   "cell_type": "code",
   "execution_count": 94,
   "metadata": {},
   "outputs": [],
   "source": [
    "for dis in discount_vals:\n",
    "    hold_val,hold_iter=two_array(grid,discount=dis)\n",
    "    vals_2D.append(hold_val)\n",
    "    iter_2D.append(hold_iter)\n",
    "    \n",
    "    hold_val,hold_iter=one_array(grid,discount=dis)\n",
    "    vals_1D.append(hold_val)\n",
    "    iter_1D.append(hold_iter+1)"
   ]
  },
  {
   "cell_type": "code",
   "execution_count": 95,
   "metadata": {},
   "outputs": [
    {
     "data": {
      "text/plain": [
       "<matplotlib.legend.Legend at 0x1fbc382cd68>"
      ]
     },
     "execution_count": 95,
     "metadata": {},
     "output_type": "execute_result"
    },
    {
     "data": {
      "image/png": "[encoded data removed]",
      "text/plain": [
       "<Figure size 432x288 with 1 Axes>"
      ]
     },
     "metadata": {
      "needs_background": "light"
     },
     "output_type": "display_data"
    }
   ],
   "source": [
    "plt.plot(discount_vals,iter_2D,c=\"r\",label=\"Two-Array\")\n",
    "plt.plot(discount_vals,iter_1D,c=\"b\",label=\"In-Place\")\n",
    "\n",
    "plt.title(\"Discount rate vs #iterations to convergence for the inplace and two-array algorithms\")\n",
    "plt.xlabel(\"Discount factor\")\n",
    "plt.ylabel(\"Iterations needed for convergence\")\n",
    "plt.legend()"
   ]
  },
  {
   "cell_type": "code",
   "execution_count": null,
   "metadata": {},
   "outputs": [],
   "source": []
  }
 ],
 "metadata": {
  "kernelspec": {
   "display_name": "Python 3",
   "language": "python",
   "name": "python3"
  },
  "language_info": {
   "codemirror_mode": {
    "name": "ipython",
    "version": 3
   },
   "file_extension": ".py",
   "mimetype": "text/x-python",
   "name": "python",
   "nbconvert_exporter": "python",
   "pygments_lexer": "ipython3",
   "version": "3.7.3"
  }
 },
 "nbformat": 4,
 "nbformat_minor": 4
}
