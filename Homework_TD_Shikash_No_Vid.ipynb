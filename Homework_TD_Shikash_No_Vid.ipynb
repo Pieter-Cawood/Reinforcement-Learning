{
 "cells": [
  {
   "cell_type": "code",
   "execution_count": 34,
   "metadata": {},
   "outputs": [],
   "source": [
    "# Group Members\n",
    "# Shikash Algu: 2373769\n",
    "# Byron Gomes: 0709942R\n",
    "# Clarise Poobalan: 383321\n",
    "# Nicolaas Cawood: 2376182\n",
    "\n",
    "import numpy as np\n",
    "#from environments.gridworld import GridworldEnv\n",
    "#import timeit\n",
    "import matplotlib.pyplot as plt\n",
    "#import pandas as pd\n",
    "#import math\n",
    "#import random\n",
    "import gym"
   ]
  },
  {
   "cell_type": "code",
   "execution_count": 3,
   "metadata": {},
   "outputs": [],
   "source": [
    "env = gym.make('CliffWalking-v0')"
   ]
  },
  {
   "cell_type": "code",
   "execution_count": 12,
   "metadata": {},
   "outputs": [
    {
     "name": "stdout",
     "output_type": "stream",
     "text": [
      "o  o  o  o  o  o  o  o  o  o  o  o\n",
      "o  o  o  o  o  o  o  o  o  o  o  o\n",
      "o  o  o  o  o  o  o  o  o  o  o  o\n",
      "x  C  C  C  C  C  C  C  C  C  C  T\n",
      "\n"
     ]
    },
    {
     "data": {
      "text/plain": [
       "36"
      ]
     },
     "execution_count": 12,
     "metadata": {},
     "output_type": "execute_result"
    }
   ],
   "source": [
    "state = env.reset()\n",
    "env.render()\n",
    "state"
   ]
  },
  {
   "cell_type": "code",
   "execution_count": 13,
   "metadata": {},
   "outputs": [
    {
     "data": {
      "text/plain": [
       "0"
      ]
     },
     "execution_count": 13,
     "metadata": {},
     "output_type": "execute_result"
    }
   ],
   "source": [
    "action = env.action_space.sample()\n",
    "action"
   ]
  },
  {
   "cell_type": "code",
   "execution_count": 71,
   "metadata": {},
   "outputs": [],
   "source": [
    "def Sarsa_lam(env,episodes,epsilon,alpha,lambda_s,gamma):\n",
    "    #Initialize Q(s,a) and e(s,a)\n",
    "    Q=np.zeros((env.nS,env.nA))\n",
    "    e=np.zeros((env.nS,env.nA))   \n",
    "    hold_array=np.zeros((env.shape[0],env.shape[1],episodes))\n",
    "    \n",
    "    #Repeat (for each step of episode)    \n",
    "    for episode in range(episodes):\n",
    "        state = env.reset()\n",
    "        action = env.action_space.sample()\n",
    "        \n",
    "        #repeat for each step in episode\n",
    "       # while True:\n",
    "        count=0\n",
    "        for i in range(1000):        \n",
    "            #Take action a, observe r and s'\n",
    "            state_prime, reward, done, info = env.step(action)\n",
    "\n",
    "            #Choose a' from s' using policy deriver from greedy\n",
    "            action_prime=np.argmax(Q[state_prime])\n",
    "            if np.random.random()<epsilon:\n",
    "                action_prime=env.action_space.sample() # A random action with prob eps,#bandit algo.\n",
    "\n",
    "            #Gamma\n",
    "            delta=reward+gamma*Q[state_prime,action_prime]-Q[state,action]\n",
    "            e[state,action]=e[state,action]+1\n",
    "\n",
    "            #for all s,a\n",
    "            for s in range(env.nS):\n",
    "                for a in range(env.nA):\n",
    "                    Q[s,a]=Q[s,a]+alpha*delta*e[s,a]\n",
    "                    e[s,a]=gamma*lambda_s*e[s,a]\n",
    "\n",
    "            state=state_prime\n",
    "            action=action_prime\n",
    "\n",
    "            if done:\n",
    "              #  print(\"Done\",count)\n",
    "               # print(Q)\n",
    "                hold_array[:,:,episode]=np.reshape(Q.max(axis=1),(4,12))\n",
    "                break\n",
    "            count+=1\n",
    "            \n",
    "    return hold_array"
   ]
  },
  {
   "cell_type": "code",
   "execution_count": 115,
   "metadata": {},
   "outputs": [
    {
     "name": "stdout",
     "output_type": "stream",
     "text": [
      "0\n",
      "1\n",
      "2\n",
      "3\n"
     ]
    }
   ],
   "source": [
    "episodes=500\n",
    "epsilon=0.1\n",
    "alpha=0.5\n",
    "gamma=1\n",
    "\n",
    "Q_0=Sarsa_lam(env,episodes,epsilon,alpha,0,gamma)#(env,episodes,epsilon,alpha,lambda_s,gamma):,{0,0.3,0.5,0.7,0.9}\n",
    "print(\"0\")\n",
    "Q_1=Sarsa_lam(env,episodes,epsilon,alpha,0.3,gamma)\n",
    "print(\"1\")\n",
    "Q_2=Sarsa_lam(env,episodes,epsilon,alpha,0.5,gamma)\n",
    "print(\"2\")\n",
    "Q_3=Sarsa_lam(env,episodes,epsilon,alpha,0.7,gamma)\n",
    "print(\"3\")\n",
    "Q_4=Sarsa_lam(env,episodes,epsilon,alpha,0.9,gamma)\n"
   ]
  },
  {
   "cell_type": "code",
   "execution_count": 116,
   "metadata": {},
   "outputs": [
    {
     "data": {
      "text/plain": [
       "(4, 12, 500)"
      ]
     },
     "execution_count": 116,
     "metadata": {},
     "output_type": "execute_result"
    }
   ],
   "source": [
    "Q_0.shapep"
   ]
  },
  {
   "cell_type": "code",
   "execution_count": 131,
   "metadata": {},
   "outputs": [
    {
     "data": {
      "text/plain": [
       "<matplotlib.image.AxesImage at 0x1a7e8891470>"
      ]
     },
     "execution_count": 131,
     "metadata": {},
     "output_type": "execute_result"
    },
    {
     "data": {
      "image/png": "[encoded data removed]",
      "text/plain": [
       "<Figure size 432x288 with 1 Axes>"
      ]
     },
     "metadata": {
      "needs_background": "light"
     },
     "output_type": "display_data"
    }
   ],
   "source": [
    "plt.imshow(Q_0[:,:,499],cmap=\"inferno\")"
   ]
  },
  {
   "cell_type": "code",
   "execution_count": 132,
   "metadata": {},
   "outputs": [
    {
     "data": {
      "text/plain": [
       "<matplotlib.image.AxesImage at 0x1a7e88ed588>"
      ]
     },
     "execution_count": 132,
     "metadata": {},
     "output_type": "execute_result"
    },
    {
     "data": {
      "image/png": "[encoded data removed]",
      "text/plain": [
       "<Figure size 432x288 with 1 Axes>"
      ]
     },
     "metadata": {
      "needs_background": "light"
     },
     "output_type": "display_data"
    }
   ],
   "source": [
    "plt.imshow(Q_1[:,:,499],cmap=\"inferno\")"
   ]
  },
  {
   "cell_type": "code",
   "execution_count": 133,
   "metadata": {},
   "outputs": [
    {
     "data": {
      "text/plain": [
       "<matplotlib.image.AxesImage at 0x1a7e894c6d8>"
      ]
     },
     "execution_count": 133,
     "metadata": {},
     "output_type": "execute_result"
    },
    {
     "data": {
      "image/png": "[encoded data removed]",
      "text/plain": [
       "<Figure size 432x288 with 1 Axes>"
      ]
     },
     "metadata": {
      "needs_background": "light"
     },
     "output_type": "display_data"
    }
   ],
   "source": [
    "plt.imshow(Q_2[:,:,499],cmap=\"inferno\")"
   ]
  },
  {
   "cell_type": "code",
   "execution_count": 134,
   "metadata": {},
   "outputs": [
    {
     "data": {
      "text/plain": [
       "<matplotlib.image.AxesImage at 0x1a7e89ac828>"
      ]
     },
     "execution_count": 134,
     "metadata": {},
     "output_type": "execute_result"
    },
    {
     "data": {
      "image/png": "[encoded data removed]",
      "text/plain": [
       "<Figure size 432x288 with 1 Axes>"
      ]
     },
     "metadata": {
      "needs_background": "light"
     },
     "output_type": "display_data"
    }
   ],
   "source": [
    "plt.imshow(Q_3[:,:,499],cmap=\"inferno\")"
   ]
  },
  {
   "cell_type": "code",
   "execution_count": 136,
   "metadata": {},
   "outputs": [
    {
     "data": {
      "text/plain": [
       "<matplotlib.colorbar.Colorbar at 0x1a7e8ab8fd0>"
      ]
     },
     "execution_count": 136,
     "metadata": {},
     "output_type": "execute_result"
    },
    {
     "data": {
      "image/png": "[encoded data removed]",
      "text/plain": [
       "<Figure size 432x288 with 2 Axes>"
      ]
     },
     "metadata": {
      "needs_background": "light"
     },
     "output_type": "display_data"
    }
   ],
   "source": [
    "plt.imshow(Q_4[:,:,498],cmap=\"inferno\")\n",
    "plt.colorbar()"
   ]
  },
  {
   "cell_type": "code",
   "execution_count": 50,
   "metadata": {},
   "outputs": [],
   "source": [
    "import cv2\n",
    "import numpy as np\n",
    " \n",
    "\n",
    "frameSize = (500, 500)\n",
    "\n",
    "out = cv2.VideoWriter('output_video.avi',cv2.VideoWriter_fourcc(*'DIVX'), 60, frameSize)\n",
    "\n",
    "for i in range(0,100):\n",
    "    img = np.ones((500, 500, 3), dtype=np.uint8)*i\n",
    "    out.write(img)\n",
    "\n",
    "out.release()"
   ]
  }
 ],
 "metadata": {
  "kernelspec": {
   "display_name": "Python 3",
   "language": "python",
   "name": "python3"
  },
  "language_info": {
   "codemirror_mode": {
    "name": "ipython",
    "version": 3
   },
   "file_extension": ".py",
   "mimetype": "text/x-python",
   "name": "python",
   "nbconvert_exporter": "python",
   "pygments_lexer": "ipython3",
   "version": "3.7.3"
  }
 },
 "nbformat": 4,
 "nbformat_minor": 4
}
