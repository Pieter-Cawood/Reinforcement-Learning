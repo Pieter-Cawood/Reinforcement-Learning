{
 "cells": [
  {
   "cell_type": "markdown",
   "metadata": {},
   "source": [
    "# Implement a 4x4 gridworld, find terminal with DP\n",
    "\n",
    "\n",
    "<u>Group:</u><br>\n",
    "$383321$<br>\n",
    "$2373769$ <br>\n",
    "$2376182$<br>\n",
    "$0709942R$"
   ]
  },
  {
   "cell_type": "code",
   "execution_count": 4,
   "metadata": {},
   "outputs": [],
   "source": [
    "from copy import copy\n",
    "from enum import Enum\n",
    "import numpy as np\n",
    "import matplotlib.pyplot as plt"
   ]
  },
  {
   "cell_type": "markdown",
   "metadata": {},
   "source": [
    "## Gridworld\n",
    "Gridworld for a simple finite MDP. Only actions with movements in cardinal directions are allowed.<br>\n",
    "And the gird boundaries and obstacles are inaccessible by the agent."
   ]
  },
  {
   "cell_type": "code",
   "execution_count": 27,
   "metadata": {},
   "outputs": [],
   "source": [
    "class CellType(Enum):\n",
    "    SPACE = 0\n",
    "    OBSTACLE = 1\n",
    "    \n",
    "class Actions(Enum):\n",
    "    UP = 0\n",
    "    DOWN = 1\n",
    "    LEFT = 2\n",
    "    RIGHT = 3\n",
    "\n",
    "class State(object):\n",
    "    def __init__(self, row, col):\n",
    "        self.row = row\n",
    "        self.col = col\n",
    "        \n",
    "    def __eq__(self, other):\n",
    "        return self.row == other.row and self.col == other.col\n",
    "    \n",
    "    def __str__(self):\n",
    "        return str((self.row, self.col))\n",
    "    \n",
    "        \n",
    "class GridWorld(object):\n",
    "        \n",
    "    def __init__(self, height=4, width=4):\n",
    "        self.start = State(height-1, 0)\n",
    "        self.goal  = State(0, 0)\n",
    "        self.environment = self._init_environment(height, width, True)\n",
    "        self.rewards = self._init_rewards(self.environment)\n",
    "        self.shape = (len(self.environment),len(self.environment[0]))\n",
    "        self.agent_state = self.start \n",
    "        \n",
    "    # Add agent to environment using 4 as agen't position\n",
    "    def __str__(self):\n",
    "        environment = self.environment.copy()\n",
    "        environment[self.agent_state.row, self.agent_state.col] = 4\n",
    "        return str(environment)\n",
    "        \n",
    "        \n",
    "    def _init_rewards(self, environment):\n",
    "        rewards = {}\n",
    "        for row in range(len(environment)):\n",
    "            for col in range(len(environment[row,:])):\n",
    "                if environment[row, col] != CellType.OBSTACLE.value:\n",
    "                    cardinal_states = self.get_cardinal_states(State(row, col))\n",
    "                    rewards[row, col] = {}\n",
    "                    for neighbour in cardinal_states:\n",
    "                        reward = -1\n",
    "                        if neighbour == self.goal:\n",
    "                            reward = 0\n",
    "                        rewards[row, col][neighbour.row, neighbour.col] = reward\n",
    "        return rewards\n",
    "    \n",
    "                    \n",
    "    def _init_environment(self, height, width, no_obstacles = False):\n",
    "        environment = []\n",
    "        for row in range(height):\n",
    "            new_col = []\n",
    "            for col in range(width):         \n",
    "                new_col.append(CellType.SPACE.value)\n",
    "            environment.append(new_col)\n",
    "        return np.flip(np.array(environment),axis=0)\n",
    "    \n",
    "    def get_agent_state(self, agent):\n",
    "        return self.agent_state\n",
    "    \n",
    "    def get_cardinal_states(self, state):\n",
    "        return [State(state.row + 1, state.col), State(state.row - 1, state.col),\n",
    "                State(state.row, state.col + 1), State(state.row, state.col - 1)]\n",
    "\n",
    "    \n",
    "    def get_available_actions(self):\n",
    "        return [Actions.DOWN, Actions.UP, Actions.LEFT, Actions.RIGHT]\n",
    "    \n",
    "    def state_reward_from_action(self, state, action): \n",
    "        from_state = state\n",
    "        if action == Actions.DOWN:\n",
    "            new_state = State(state.row + 1, state.col)\n",
    "        if action == Actions.UP:\n",
    "            new_state = State(state.row - 1, state.col)\n",
    "        if action == Actions.LEFT:\n",
    "            new_state = State(state.row, state.col - 1)\n",
    "        if action == Actions.RIGHT:\n",
    "            new_state = State(state.row, state.col + 1)\n",
    "        return new_state, self.rewards[from_state.row, from_state.col][new_state.row, new_state.col]\n",
    "        \n",
    "    def take_action(self, action): \n",
    "        from_state = self.agent_state\n",
    "        if action == Actions.DOWN:\n",
    "            self.agent_state = State(self.agent_state.row + 1, self.agent_state.col)\n",
    "        if action == Actions.UP:\n",
    "            self.agent_state = State(self.agent_state.row - 1, self.agent_state.col)\n",
    "        if action == Actions.LEFT:\n",
    "            self.agent_state = State(self.agent_state.row, self.agent_state.col - 1)\n",
    "        if action == Actions.RIGHT:\n",
    "            self.agent_state = State(self.agent_state.row, self.agent_state.col + 1)\n",
    "        return self.rewards[from_state.row, from_state.col][self.agent_state.row, self.agent_state.col]\n",
    "        "
   ]
  },
  {
   "cell_type": "markdown",
   "metadata": {},
   "source": [
    "## Policy evalution\n",
    "Version 1: 2-array version <br>\n",
    "Version 2: In-place version <br><br>\n",
    "$v_0$ is intialized arbitrarily, except the terminal state, must be given value 0."
   ]
  },
  {
   "cell_type": "code",
   "execution_count": 103,
   "metadata": {},
   "outputs": [],
   "source": [
    "def two_array_policy_evaluation(grid_world, gamma= 1):\n",
    "    #Arbitraraly initialisased value function\n",
    "    v = np.zeros(grid_world.shape)\n",
    "    v_prev = np.zeros(grid_world.shape)\n",
    "    #Loop through all states (Env cells)\n",
    "    for row in range (grid_world.shape[0]): \n",
    "        for col in range(grid_world.shape[1]):\n",
    "            if grid_world.agent_state == grid_world.goal:\n",
    "                return Codehere\n",
    "\n",
    "            for action in grid_world.get_available_actions():\n",
    "                new_state, reward = grid_world.state_reward_from_action(State(row, col), action)\n",
    "                discounted_value = 0\n",
    "                # if state is within the domain\n",
    "                if new_state.row < len(v_prev) and new_state.col < len(v_prev):\n",
    "                    discounted_value = v_prev[new_state.row, new_state.col]\n",
    "                    \n",
    "                # Uniform random policy = 0.25 for 4 cardinal positions   \n",
    "                v[row, col] = 0.25 * (reward + gamma * discounted_value)\n",
    "                v_prev[row, col] = v[row, col]\n",
    "                \n",
    "    print(v)         "
   ]
  },
  {
   "cell_type": "code",
   "execution_count": 104,
   "metadata": {},
   "outputs": [
    {
     "name": "stdout",
     "output_type": "stream",
     "text": [
      "[[-0.25 -0.25 -0.25 -0.25]\n",
      " [-0.25 -0.25 -0.25 -0.25]\n",
      " [-0.25 -0.25 -0.25 -0.25]\n",
      " [-0.25 -0.25 -0.25 -0.25]]\n"
     ]
    }
   ],
   "source": [
    "two_array_policy_evaluation(GridWorld())"
   ]
  },
  {
   "cell_type": "code",
   "execution_count": null,
   "metadata": {},
   "outputs": [],
   "source": []
  }
 ],
 "metadata": {
  "kernelspec": {
   "display_name": "Python 3",
   "language": "python",
   "name": "python3"
  },
  "language_info": {
   "codemirror_mode": {
    "name": "ipython",
    "version": 3
   },
   "file_extension": ".py",
   "mimetype": "text/x-python",
   "name": "python",
   "nbconvert_exporter": "python",
   "pygments_lexer": "ipython3",
   "version": "3.7.6"
  }
 },
 "nbformat": 4,
 "nbformat_minor": 4
}
