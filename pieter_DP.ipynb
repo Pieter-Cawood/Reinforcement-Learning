{
 "cells": [
  {
   "cell_type": "markdown",
   "metadata": {},
   "source": [
    "# Implement a 4x4 gridworld, find terminal with DP\n",
    "\n",
    "\n",
    "<u>Group:</u><br>\n",
    "$383321$<br>\n",
    "$0709942R$<br>\n",
    "$2373769$ <br>\n",
    "$2376182$<br>"
   ]
  },
  {
   "cell_type": "code",
   "execution_count": 1,
   "metadata": {},
   "outputs": [],
   "source": [
    "from copy import deepcopy\n",
    "from enum import Enum\n",
    "import numpy as np\n",
    "import seaborn as sns\n",
    "import matplotlib.pyplot as plt"
   ]
  },
  {
   "cell_type": "markdown",
   "metadata": {},
   "source": [
    "## Gridworld\n",
    "Gridworld for a simple finite MDP. Only actions with movements in cardinal directions are allowed.<br>\n",
    "And the gird boundaries and obstacles are inaccessible by the agent."
   ]
  },
  {
   "cell_type": "code",
   "execution_count": 2,
   "metadata": {},
   "outputs": [],
   "source": [
    "class CellType(Enum):\n",
    "    SPACE = 0\n",
    "    OBSTACLE = 1\n",
    "    \n",
    "class Actions(Enum):\n",
    "    UP = 0\n",
    "    DOWN = 1\n",
    "    LEFT = 2\n",
    "    RIGHT = 3\n",
    "\n",
    "class State(object):\n",
    "    def __init__(self, row, col):\n",
    "        self.row = row\n",
    "        self.col = col\n",
    "        \n",
    "    def __eq__(self, other):\n",
    "        return self.row == other.row and self.col == other.col\n",
    "    \n",
    "    def __str__(self):\n",
    "        return str((self.row, self.col))\n",
    "    \n",
    "        \n",
    "class GridWorld(object):   \n",
    "    def __init__(self, height=4, width=4):\n",
    "        self.goal  = State(0, 0)\n",
    "        self.environment = self._init_environment(height, width, True)\n",
    "        self.rewards = self._init_rewards(self.environment)\n",
    "        self.shape = (len(self.environment),len(self.environment[0]))\n",
    "        \n",
    "    # Add agent to environment using 4 as agen't position\n",
    "    def __str__(self):\n",
    "        environment = self.environment.copy()\n",
    "        environment[self.agent_state.row, self.agent_state.col] = 4\n",
    "        return str(environment)\n",
    "        \n",
    "        \n",
    "    def _init_rewards(self, environment):\n",
    "        rewards = {}\n",
    "        for row in range(len(environment)):\n",
    "            for col in range(len(environment[row,:])):\n",
    "                if environment[row, col] != CellType.OBSTACLE.value:\n",
    "                    cardinal_states = self.get_cardinal_states(State(row, col))\n",
    "                    rewards[row, col] = {}\n",
    "                    for neighbour in cardinal_states:\n",
    "                        reward = -1\n",
    "                        rewards[row, col][neighbour.row, neighbour.col] = reward\n",
    "        return rewards\n",
    "    \n",
    "                    \n",
    "    def _init_environment(self, height, width, no_obstacles = False):\n",
    "        environment = []\n",
    "        for row in range(height):\n",
    "            new_col = []\n",
    "            for col in range(width):         \n",
    "                new_col.append(CellType.SPACE.value)\n",
    "            environment.append(new_col)\n",
    "        return np.flip(np.array(environment),axis=0)\n",
    "    \n",
    "    def get_agent_state(self, agent):\n",
    "        return self.agent_state\n",
    "    \n",
    "    def get_cardinal_states(self, state):\n",
    "        return [State(state.row + 1, state.col), State(state.row - 1, state.col),\n",
    "                State(state.row, state.col + 1), State(state.row, state.col - 1)]\n",
    "\n",
    "    \n",
    "    def get_all_actions(self):\n",
    "        return [Actions.DOWN, Actions.UP, Actions.LEFT, Actions.RIGHT]\n",
    "    \n",
    "    def get_action_state_prob(self, state):\n",
    "        count = 0\n",
    "        if state.row > 0:\n",
    "            count += 1\n",
    "        if state.row < len(self.environment) -1:\n",
    "            count += 1\n",
    "        if state.col > 0:\n",
    "            count += 1\n",
    "        if state.col < len(self.environment) -1:\n",
    "            count += 1\n",
    "        return 1/count\n",
    "            \n",
    "        return [Actions.DOWN, Actions.UP, Actions.LEFT, Actions.RIGHT]\n",
    "    \n",
    "    def state_reward_from_action(self, state, action): \n",
    "        from_state = state\n",
    "        if action == Actions.DOWN:\n",
    "            if state.row == len(self.environment) - 1:\n",
    "            #Grid boundary, go nowhere, penalise\n",
    "                return state, -1\n",
    "            else:\n",
    "                new_state = State(state.row + 1, state.col)\n",
    "        if action == Actions.UP:\n",
    "            if state.row == 0:\n",
    "            #Grid boundary, go nowhere, penalise\n",
    "                return state, -1\n",
    "            else:\n",
    "                new_state = State(state.row - 1, state.col)       \n",
    "        if action == Actions.LEFT:\n",
    "            if state.col == 0:\n",
    "            #Grid boundary, go nowhere, penalise\n",
    "                return state, -1\n",
    "            else:\n",
    "                new_state = State(state.row, state.col - 1)\n",
    "        if action == Actions.RIGHT:\n",
    "            if state.col == len(self.environment) - 1:\n",
    "            #Grid boundary, go nowhere, penalise\n",
    "                return state, -1 \n",
    "            else:\n",
    "                new_state = State(state.row, state.col + 1)\n",
    "                \n",
    "        return new_state, -1   "
   ]
  },
  {
   "cell_type": "markdown",
   "metadata": {},
   "source": [
    "## Two-array policy evalution\n",
    "\n",
    "$v_0$ is intialized arbitrarily, except the terminal state, must be given value 0."
   ]
  },
  {
   "cell_type": "code",
   "execution_count": 3,
   "metadata": {},
   "outputs": [],
   "source": [
    "def two_array_policy_eval(grid_world, gamma= 1.0, pi= 0.01):\n",
    "    # Start with a arbitrary (all 0) value function\n",
    "    v_prev = np.zeros(grid_world.shape)\n",
    "    loop_count = 0\n",
    "    while True:\n",
    "        delta = - float('inf')\n",
    "        loop_count += 1          \n",
    "            \n",
    "        #new value function\n",
    "        v_new = np.zeros(grid_world.shape)\n",
    "\n",
    "        #Loop through all states (Env cells)\n",
    "        for row in range (grid_world.shape[0]): \n",
    "            for col in range(grid_world.shape[1]):\n",
    "                \n",
    "                if State(row, col) == grid_world.goal:\n",
    "                    continue\n",
    "                    \n",
    "                new_val = 0\n",
    "                \n",
    "                #loop over possible actions\n",
    "                for action in grid_world.get_all_actions():\n",
    "                \n",
    "                    #get transitions\n",
    "                    new_state, reward = grid_world.state_reward_from_action(State(row, col), action)\n",
    "                        \n",
    "                    #Update value for this action\n",
    "                    new_val += 0.25 * (reward + gamma * v_prev[new_state.row, new_state.col])            \n",
    "                    \n",
    "                v_new[row, col] = new_val\n",
    "\n",
    "                delta = max(delta, abs(v_new[row, col] - v_prev[row, col]))\n",
    "                \n",
    "        # If the biggest change is less than the threshold, its time to leave this joint\n",
    "        if(delta < pi):\n",
    "            break\n",
    "\n",
    "        v_prev = v_new\n",
    "\n",
    "    return v_new, loop_count"
   ]
  },
  {
   "cell_type": "code",
   "execution_count": 4,
   "metadata": {},
   "outputs": [
    {
     "name": "stdout",
     "output_type": "stream",
     "text": [
      "2-Array iterations: 241\n"
     ]
    },
    {
     "data": {
      "image/png": "[encoded data removed]",
      "text/plain": [
       "<Figure size 432x288 with 2 Axes>"
      ]
     },
     "metadata": {
      "needs_background": "light"
     },
     "output_type": "display_data"
    }
   ],
   "source": [
    "grid_world = GridWorld()\n",
    "v, loop_count = two_array_policy_eval(grid_world)\n",
    "print(\"2-Array iterations: \" + str(loop_count))\n",
    "sns.heatmap(v,vmin=-68,annot=True, fmt='.3g');"
   ]
  },
  {
   "cell_type": "markdown",
   "metadata": {},
   "source": [
    "## In-place policy evalution\n",
    "\n",
    "$v_0$ is intialized arbitrarily, except the terminal state, must be given value 0."
   ]
  },
  {
   "cell_type": "code",
   "execution_count": 5,
   "metadata": {},
   "outputs": [],
   "source": [
    "def in_place_policy_eval(grid_world, gamma= 1.0, pi= 0.01):\n",
    "    # Start with a arbitrary (all 0) value function\n",
    "    v = np.zeros(grid_world.shape)\n",
    "    loop_count = 0\n",
    "    while True:\n",
    "        loop_count += 1\n",
    "        delta = - float('inf')\n",
    "        \n",
    "        v_prev = v.copy() \n",
    "        \n",
    "        # Loop through all states (Env cells)\n",
    "        for row in range(grid_world.shape[0]):\n",
    "            for col in range(grid_world.shape[1]):\n",
    "                \n",
    "                if State(row, col) == grid_world.goal:\n",
    "                    continue\n",
    "                              \n",
    "                new_val = 0\n",
    "                \n",
    "                for action in grid_world.get_all_actions():\n",
    "                    # get transitions\n",
    "                    new_state, reward = grid_world.state_reward_from_action(State(row, col), action)\n",
    "                    new_val =  new_val + 0.25 * (reward + gamma * v[new_state.row, new_state.col])\n",
    "                \n",
    "                v[row, col] = new_val\n",
    "            \n",
    "                delta = max(delta, abs(v[row, col] - v_prev[row, col]))\n",
    "                \n",
    "        # If the biggest change is less than the threshold, its time to leave this joint\n",
    "        if (delta < pi):\n",
    "            break   \n",
    "            \n",
    "    return np.array(v), loop_count"
   ]
  },
  {
   "cell_type": "code",
   "execution_count": 6,
   "metadata": {},
   "outputs": [
    {
     "name": "stdout",
     "output_type": "stream",
     "text": [
      "In-place iterations: 165\n"
     ]
    },
    {
     "data": {
      "image/png": "[encoded data removed]",
      "text/plain": [
       "<Figure size 432x288 with 2 Axes>"
      ]
     },
     "metadata": {
      "needs_background": "light"
     },
     "output_type": "display_data"
    }
   ],
   "source": [
    "grid_world = GridWorld()\n",
    "v, loop_count = in_place_policy_eval(grid_world)\n",
    "print(\"In-place iterations: \" + str(loop_count))\n",
    "sns.heatmap(v,vmin=-68,annot=True, fmt='.3g');"
   ]
  },
  {
   "cell_type": "markdown",
   "metadata": {},
   "source": [
    "## Plot both for different discount factors\n"
   ]
  },
  {
   "cell_type": "code",
   "execution_count": 7,
   "metadata": {},
   "outputs": [],
   "source": [
    "gamma = 0\n",
    "grid_world = GridWorld()\n",
    "gammas = np.logspace(- 0.2, 0, num=20)\n",
    "iterations_two_array = []\n",
    "iterations_in_place = []\n",
    "\n",
    "for gamma in gammas:\n",
    "    v_1, loop_count_1 = two_array_policy_eval(grid_world, gamma)\n",
    "    iterations_two_array.append(loop_count_1)\n",
    "    v_2, loop_count_2 = in_place_policy_eval(grid_world, gamma)\n",
    "    iterations_in_place.append(loop_count_2)"
   ]
  },
  {
   "cell_type": "code",
   "execution_count": 8,
   "metadata": {},
   "outputs": [
    {
     "data": {
      "image/png": "[encoded data removed]",
      "text/plain": [
       "<Figure size 432x288 with 1 Axes>"
      ]
     },
     "metadata": {
      "needs_background": "light"
     },
     "output_type": "display_data"
    }
   ],
   "source": [
    "plt.plot(gammas, iterations_two_array, 'r')\n",
    "plt.plot(gammas, iterations_in_place, 'b')\n",
    "plt.title('2-Array vs in-place policy evaluation')\n",
    "plt.xlabel('Discount rate')\n",
    "plt.ylabel('Number of iterations')\n",
    "plt.show()"
   ]
  }
 ],
 "metadata": {
  "kernelspec": {
   "display_name": "Python 3",
   "language": "python",
   "name": "python3"
  },
  "language_info": {
   "codemirror_mode": {
    "name": "ipython",
    "version": 3
   },
   "file_extension": ".py",
   "mimetype": "text/x-python",
   "name": "python",
   "nbconvert_exporter": "python",
   "pygments_lexer": "ipython3",
   "version": "3.7.6"
  }
 },
 "nbformat": 4,
 "nbformat_minor": 4
}
